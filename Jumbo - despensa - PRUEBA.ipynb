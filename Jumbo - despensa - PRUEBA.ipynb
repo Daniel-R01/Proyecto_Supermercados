{
 "cells": [
  {
   "cell_type": "code",
   "execution_count": 7,
   "id": "7c25d6ea",
   "metadata": {
    "ExecuteTime": {
     "end_time": "2022-10-03T15:58:55.084328Z",
     "start_time": "2022-10-03T15:58:54.472035Z"
    }
   },
   "outputs": [],
   "source": [
    "#librerias\n",
    "from selenium import webdriver\n",
    "from selenium.webdriver.support.ui import WebDriverWait\n",
    "from selenium.webdriver.support import expected_conditions as EC\n",
    "from selenium.webdriver.common.by import By\n",
    "from bs4 import BeautifulSoup\n",
    "import time\n",
    "from selenium.webdriver.chrome.service import Service\n",
    "from selenium.webdriver.chrome.options import Options\n",
    "import json\n",
    "import pandas as pd\n",
    "from datetime import datetime\n",
    "import numpy as np\n",
    "import re\n",
    "from selenium.common.exceptions import TimeoutException"
   ]
  },
  {
   "cell_type": "code",
   "execution_count": 8,
   "id": "d30823bb",
   "metadata": {
    "ExecuteTime": {
     "end_time": "2022-10-03T15:58:58.266174Z",
     "start_time": "2022-10-03T15:58:58.254162Z"
    }
   },
   "outputs": [],
   "source": [
    "##Nuevas\n",
    "def buscar(elemento,busqueda):\n",
    "    WebDriverWait(driver, 10)\\\n",
    "        .until(EC.element_to_be_clickable((By.CSS_SELECTOR,elemento)))\\\n",
    "        .send_keys(busqueda)\n",
    "    \n",
    "def Click(elemento):\n",
    "    WebDriverWait(driver, 5)\\\n",
    "        .until(EC.element_to_be_clickable((By.CSS_SELECTOR,elemento))).click()\n",
    "\n",
    "def clear_buscar(elemento):\n",
    "    WebDriverWait(driver, 20)\\\n",
    "        .until(EC.element_to_be_clickable((By.CSS_SELECTOR,elemento)))\\\n",
    "        .clear()\n",
    "    \n",
    "#Se solicita el Xfullpath para hacer click\n",
    "def Click_Xpath(path):\n",
    "    WebDriverWait(driver, 15)\\\n",
    "    .until(EC.element_to_be_clickable((By.XPATH,path)))\\\n",
    "    .click()\n",
    "    \n",
    "    \n",
    "##Funcion NoClick hace referencia a los apartados que no son clikeables y se accede a el por medio del FullXpath\n",
    "def NoClick(path):\n",
    "    WebDriverWait(driver, 5).until(EC.presence_of_element_located((By.XPATH,path)))\n",
    "    url=driver.find_element(\"xpath\",path).get_attribute(\"href\")\n",
    "    driver.get(url)   \n",
    "    \n",
    "def ListarNombres(path,clase):\n",
    "    WebDriverWait(driver, 8).until(EC.presence_of_element_located((By.XPATH,path)))\n",
    "    html_list=driver.find_element(By.CSS_SELECTOR,clase)\n",
    "    lista = html_list.find_elements(By.TAG_NAME,'div')\n",
    "    titulo=[]\n",
    "    for i in lista:\n",
    "        text = i.get_attribute('innerHTML')\n",
    "        soup = BeautifulSoup(text,'html.parser')\n",
    "        titulo.append(soup.findAll(\"h2\")[0].string)\n",
    "        #print(titulo)\n",
    "    return titulo\n",
    "\n",
    "def ListarPrecios(path,clase):\n",
    "    WebDriverWait(driver, 8).until(EC.presence_of_element_located((By.XPATH,path)))\n",
    "    html_list=driver.find_element(By.CSS_SELECTOR,clase)\n",
    "    lista = html_list.find_elements(By.TAG_NAME,'li')\n",
    "    \n",
    "    for i in lista:\n",
    "        text = i.get_attribute('innerHTML')\n",
    "        soup = BeautifulSoup(text,'html.parser')\n",
    "        precio = soup.select(\"span.price-tag-fraction\")[0].text\n",
    "        print(precio)\n",
    "def LeerJson(path):\n",
    "    \n",
    "    WebDriverWait(driver, 25).until(EC.presence_of_element_located((By.XPATH,path)))\n",
    "    Json_Jumbo=driver.find_element(\"xpath\",path).get_attribute(\"text\")\n",
    "    Json_Jumbo = json.loads(Json_Jumbo)\n",
    "    DatosProducto = Json_Jumbo['itemListElement'] # Se toma el Json anidado que contiene los datos del producto\n",
    "    return DatosProducto"
   ]
  },
  {
   "cell_type": "code",
   "execution_count": 9,
   "id": "26c5858a",
   "metadata": {
    "ExecuteTime": {
     "end_time": "2022-10-03T15:58:59.653328Z",
     "start_time": "2022-10-03T15:58:59.646321Z"
    }
   },
   "outputs": [],
   "source": [
    "#Funciones para limpieza y procesamiento de datos \n",
    "def cantidad(producto):\n",
    "    \n",
    "    l=len(producto)\n",
    "    producto=producto[::-1] #Invertimos la cadena para encontrar x\n",
    "    m =producto.find(\"x\")\n",
    "    producto = producto[:m] #Esta invertimo el valor\n",
    "    producto=producto[::-1] #Lo volvemos a su estado normal\n",
    "    return producto\n",
    "    \n",
    "#Funcion para convertir palabras con acentos en palabras sin acentos\n",
    "def categoria(producto):\n",
    "    \n",
    "    m =producto.find(\" \")\n",
    "    remplazo = producto[:m].maketrans(\"áéíóú\", \"aeiou\",\"*123456789\") #Remplazo palabras que contengan acentos y borrar caracteres *123456789\n",
    "    producto = producto[:m].translate(remplazo).upper() #Uso translate para poder observar correctamente\n",
    "    return producto\n",
    "\n"
   ]
  },
  {
   "cell_type": "code",
   "execution_count": 10,
   "id": "cfdc8152",
   "metadata": {
    "ExecuteTime": {
     "end_time": "2022-10-03T15:59:02.155418Z",
     "start_time": "2022-10-03T15:59:02.147416Z"
    }
   },
   "outputs": [],
   "source": [
    "#Ruta de chorme compatible \n",
    "driver_path = \"C:\\\\Users\\\\danie\\\\OneDrive\\\\Documentos\\\\Notebooks\\\\chromedriver.exe\"\n",
    "## Opciones con las que inicia google chrome \n",
    "options = webdriver.ChromeOptions()\n",
    "options.add_argument('--ignore-certificate-errors')\n",
    "options.add_argument(\"--headless\")\n",
    "options.add_argument('--start-maximized')\n",
    "options.add_argument('--disable-extensions')\n",
    "\n",
    "s = Service(driver_path)#Se agrega el path como objeto para evitar errores \n"
   ]
  },
  {
   "cell_type": "markdown",
   "id": "f32168a5",
   "metadata": {},
   "source": [
    "# Main"
   ]
  },
  {
   "cell_type": "markdown",
   "id": "38acc50c",
   "metadata": {},
   "source": [
    "## Función buscar:\n",
    "- Recibe como parametro el input class del cuadro de busqueda de la pagina y el producto a buscar\n",
    "- Se antepone input antes de colocar el input class\n",
    "- Si el input class tiene espacios estos se remplazan por puntos"
   ]
  },
  {
   "cell_type": "markdown",
   "id": "e920443f",
   "metadata": {
    "ExecuteTime": {
     "end_time": "2022-09-08T15:48:46.892900Z",
     "start_time": "2022-09-08T15:48:46.878702Z"
    }
   },
   "source": [
    "## Funcion Click\n",
    "- Recibe como parametro el elemento clikeable anteponiendo el formato(div, footer, etc)\n"
   ]
  },
  {
   "cell_type": "markdown",
   "id": "8c6a4c58",
   "metadata": {
    "ExecuteTime": {
     "end_time": "2022-09-15T00:32:07.482292Z",
     "start_time": "2022-09-15T00:32:07.477618Z"
    }
   },
   "source": [
    "## Función ListarProductos\n",
    "- Esta funcion lista todos los productos de la busquema realizada \n"
   ]
  },
  {
   "cell_type": "code",
   "execution_count": 81,
   "id": "ebb45004",
   "metadata": {},
   "outputs": [],
   "source": [
    "'//script[type=\"application/ld+json\"]'\n",
    "\n",
    "def LeerJson2(path):\n",
    "    \n",
    "    \n",
    "    Json_Jumbo =driver.find_element(\"xpath\",path).get_attribute(\"text\")\n",
    "    #Json_Jumbo = json.loads(Json_Jumbo)\n",
    "    #DatosProducto = Json_Jumbo['itemListElement'] # Se toma el Json anidado que contiene los datos del producto\n",
    "    return Json_Jumbo\n",
    "\n",
    "\n",
    "def LeerJson3(path):\n",
    "    \n",
    "    WebDriverWait(driver, 25).until(EC.presence_of_element_located((By.XPATH,path)))\n",
    "    Json_Jumbo=driver.find_element(\"xpath\",path).get_attribute(\"text\")\n",
    "    #Json_Jumbo = json.loads(Json_Jumbo)\n",
    "    #DatosProducto = Json_Jumbo['itemListElement'] # Se toma el Json anidado que contiene los datos del producto\n",
    "    return DatosProducto"
   ]
  },
  {
   "cell_type": "code",
   "execution_count": null,
   "id": "22e0cdaf",
   "metadata": {},
   "outputs": [],
   "source": []
  },
  {
   "cell_type": "code",
   "execution_count": 89,
   "id": "a559fc1b",
   "metadata": {
    "ExecuteTime": {
     "end_time": "2022-10-03T16:04:34.738311Z",
     "start_time": "2022-10-03T16:02:55.296043Z"
    }
   },
   "outputs": [
    {
     "name": "stdout",
     "output_type": "stream",
     "text": [
      "El proceso finalizo con algo inusual\n",
      "Finalizo correctamente el proceso\n"
     ]
    }
   ],
   "source": [
    "driver = webdriver.Chrome(service=s)\n",
    "driver.maximize_window()\n",
    "driver.get(\"https://www.tiendasjumbo.co/\") \n",
    "\n",
    "ListaProducto=  ['Arroz']\n",
    "CantMas = dict([('Arroz', 1)])\n",
    "\n",
    "#driver.implicitly_wait (10) \n",
    "Json_Total=[]\n",
    "time.sleep(1)\n",
    "\n",
    "try:\n",
    "    for i in range(len(ListaProducto)):\n",
    "        time.sleep(1)\n",
    "    #Buscar producto\n",
    "        producto = ListaProducto[i]\n",
    "        input_class = 'input.vtex-styleguide-9-x-input.ma0.border-box.vtex-styleguide-9-x-hideDecorators.vtex-styleguide-9-x-noAppearance.br2.br-0.br--left.w-100.bn.outline-0.bg-base.c-on-base.b--muted-4.hover-b--muted-3.t-body.pl5'\n",
    "        buscar(input_class,producto)\n",
    "        time.sleep(2)\n",
    "    #Click en buscar\n",
    "        Element_clickeable = 'footer.vtex-search-2-x-tileListFooter'\n",
    "        Click(Element_clickeable)\n",
    "        time.sleep(3)\n",
    "        driver.switch_to.default_content()\n",
    "    #Guardar en Json     \n",
    "        time.sleep(1)\n",
    "        driver.set_page_load_timeout(30)\n",
    "               \n",
    "        path= '/html/body/div[2]/div/div[1]/div/div[2]/div/div/section/div[2]/div/div[9]/section/div/div/script'\n",
    "        Json_Total += LeerJson(path) #Esto deja un JSON con el que se trabajara los datos\n",
    "    #limpiar\n",
    "        if(i>=1):\n",
    "            driver.get(\"https://www.tiendasjumbo.co/\") \n",
    "\n",
    "except TimeoutException:\n",
    "    driver.set_page_load_timeout(10)\n",
    "    \n",
    "    print('El proceso finalizo con algo inusual')\n",
    "print('Finalizo correctamente el proceso')"
   ]
  },
  {
   "cell_type": "code",
   "execution_count": 90,
   "id": "27cd0069",
   "metadata": {},
   "outputs": [
    {
     "data": {
      "text/plain": [
       "[]"
      ]
     },
     "execution_count": 90,
     "metadata": {},
     "output_type": "execute_result"
    }
   ],
   "source": [
    "Json_Total"
   ]
  },
  {
   "cell_type": "markdown",
   "id": "751a6bb7",
   "metadata": {},
   "source": [
    "# Procesamiento de datos"
   ]
  },
  {
   "cell_type": "code",
   "execution_count": 12,
   "id": "d341f471",
   "metadata": {
    "ExecuteTime": {
     "end_time": "2022-10-03T16:04:42.314518Z",
     "start_time": "2022-10-03T16:04:42.265252Z"
    }
   },
   "outputs": [],
   "source": [
    "#Se obtienen los datos del segundo nivel de profundidad del json y se pasan a un dataframe\n",
    "Producto_1 = pd.json_normalize(Json_Total) \n",
    "#Se accede al 3 nivel de produndidad del json \n",
    "JsonAnidado=[] #Se crea una lista vacia para llenarla con el for\n",
    "\n",
    "for i in Producto_1['item.offers.offers']:\n",
    "    JsonAnidado +=i \n",
    "    \n",
    "#Se normaliza el nivel 3 de profundidad del json    \n",
    "Producto_2= pd.json_normalize(JsonAnidado) # Hacemos join de los 2 dataframe creados\n",
    "Productos_T = pd.concat([Producto_1, Producto_2], axis = 1) "
   ]
  },
  {
   "cell_type": "code",
   "execution_count": 13,
   "id": "ac17b4ac",
   "metadata": {
    "ExecuteTime": {
     "end_time": "2022-10-03T16:04:44.486202Z",
     "start_time": "2022-10-03T16:04:44.475104Z"
    }
   },
   "outputs": [],
   "source": [
    "#Seleccionamos las columnas que nos interesan\n",
    "Productos_T = Productos_T[['sku','item.name','item.brand.name','item.description','priceCurrency','price','priceValidUntil','item.@id','item.image','seller.name']]\n",
    "#Renombramos las columnas \n",
    "Productos_T.columns = ['Codigo_Pro','Nombre', 'Marca', 'Descripcion', 'Moneda', 'Precio','Precio_Valido_Hasta','Url_producto', 'Url_Imagen','Almacen']"
   ]
  },
  {
   "cell_type": "code",
   "execution_count": 14,
   "id": "77d37413",
   "metadata": {},
   "outputs": [],
   "source": [
    "#Obtenemos la fecha actual\n",
    "now = datetime.now()\n",
    "format = now.strftime('%Y-%m-%d')\n",
    "NombreAlmacen='Jumbo-'+format"
   ]
  },
  {
   "cell_type": "code",
   "execution_count": 15,
   "id": "5e29f85a",
   "metadata": {},
   "outputs": [],
   "source": [
    "#Funcion para obtener la cantidad de cada producto\n",
    "def cantidadx(producto):\n",
    "    \n",
    "    producto = re.findall(r'( x.+\\d{0,6}.\\w{1,3}|\\d{1,5}..\\w{0,5}| \\d{1,3}\\D\\d{1,3}.\\w{1,3})',producto) #Expresion regular para obtener las cantidades de los productos\n",
    "    producto = \" \".join(producto).replace('x', '') #Eliminamos la x en la cantidad de productos y pasamos los datos a str\n",
    "\n",
    "    #----Remplazar valores inusuales----\n",
    "    producto = re.sub(' \\.', '.',producto) #Eliminamos espacios vacios en valores decimales\n",
    "    \n",
    "\n",
    "    \n",
    "    return producto #Retornar en minusculas y sin espacios al inicio y al final \n",
    "\n",
    "#Función para separar el numero de la unidad de medida en el nombre\n",
    "def separador(producto):\n",
    "    patron =r'(\\d{1,5})([a-z]{0,7})' #Expresion regular para dar espacio entre numeros y letras\n",
    "\n",
    "    producto = re.sub(patron,r'\\1 \\2',producto) #Separamos los numeros que estan junto a palabras de unidad de medida\n",
    "    producto = re.sub(' +', ' ',producto) #Esta linea solo deja un espacio entre palabras eliminando espacios inecesarios\n",
    "    producto = re.sub(' \\,', '.',producto) #Eliminamos espacios vacios en valores decimales\n",
    "    producto = re.sub(' \\.', '.',producto) #Eliminamos espacios vacios en valores decimales\n",
    "    producto = producto.replace('&amp;co ', ' ')\n",
    "    producto = producto.replace('-', '')\n",
    "\n",
    "    return producto.lower()\n",
    "\n",
    "\n",
    "def EliminarInusuales(producto):\n",
    "    \n",
    "    #Primero se remplaza valores de str que son inusuales\n",
    "    producto = producto.replace('con vita', '')\n",
    "    producto = producto.replace('van camps', '')\n",
    "    producto = producto.replace('el rey', '')\n",
    "\n",
    "\n",
    "    #Luego normalizamos las medidas \n",
    "    producto = producto.replace('1000 g', '1 kg')\n",
    "    producto = producto.replace('2000 g', '2 kg')\n",
    "    producto = producto.replace('3000 g', '3 kg')\n",
    "    producto = producto.replace('4000 g', '4 kg')\n",
    "    producto = producto.replace('5000 g', '5 kg')\n",
    "    producto = producto.replace('10000 g', '10 kg')\n",
    "    producto = producto.replace('1000 mlb', '500 g')\n",
    "\n",
    "    #Para unidades liquidas\n",
    "\n",
    "    producto = producto.replace('lt', 'l')\n",
    "    producto = producto.replace('cc', 'ml')\n",
    "    producto = producto.replace('cm3', 'ml')\n",
    "    producto = producto.replace('cm3', 'ml')\n",
    "    producto = producto.replace('1 l', '1000 ml')\n",
    "    producto = producto.replace('1.8 l', '1800 ml')\n",
    "    producto = producto.replace('3 l', '3000 ml')\n",
    "\n",
    "\n",
    "\n",
    "\n",
    "\n",
    "\n",
    "    producto = producto.replace('kilo', 'kg')\n",
    "    producto = producto.replace('kgs', 'kg')\n",
    "    producto = producto.replace('2500 g', '2.5 kg')\n",
    "\n",
    "    producto = re.sub(r\"gratis.\\w{1,5}.\\w{1,20}\",\"\",producto)\n",
    "\n",
    "    return producto.strip()\n"
   ]
  },
  {
   "cell_type": "markdown",
   "id": "98f55e01",
   "metadata": {},
   "source": [
    "# Limpieza de datos"
   ]
  },
  {
   "cell_type": "code",
   "execution_count": 16,
   "id": "84116028",
   "metadata": {
    "ExecuteTime": {
     "end_time": "2022-10-03T16:08:04.008917Z",
     "start_time": "2022-10-03T16:08:03.992911Z"
    }
   },
   "outputs": [],
   "source": [
    "\n",
    "Productos_T['Nombre']=Productos_T['Nombre'].apply(lambda x: separador(x))\n",
    "Productos_T['Cantidad']=Productos_T['Nombre'].apply(lambda x: cantidadx(x))\n",
    "Productos_T['Fecha']= now.strftime('%Y-%m-%d')\n",
    "Productos_T['Categoria']=Productos_T['Nombre'].apply(lambda x: categoria(x))\n",
    "Productos_T['Cantidad']=Productos_T['Cantidad'].apply(lambda x: EliminarInusuales(x))"
   ]
  },
  {
   "cell_type": "code",
   "execution_count": null,
   "id": "e4a60e23",
   "metadata": {},
   "outputs": [],
   "source": []
  },
  {
   "cell_type": "markdown",
   "id": "77d7db37",
   "metadata": {
    "ExecuteTime": {
     "end_time": "2022-09-29T02:44:36.433213Z",
     "start_time": "2022-09-29T02:44:36.418216Z"
    }
   },
   "source": [
    "## Exporta archivo json\n"
   ]
  },
  {
   "cell_type": "code",
   "execution_count": 17,
   "id": "4be5e51c",
   "metadata": {
    "ExecuteTime": {
     "end_time": "2022-10-03T16:08:02.420953Z",
     "start_time": "2022-10-03T16:08:02.405384Z"
    }
   },
   "outputs": [],
   "source": [
    "#Exportar archivo JSON\n",
    "Productos_T.to_json(f'{NombreAlmacen}.json', orient = 'split', compression = 'infer', index = 'true') "
   ]
  },
  {
   "cell_type": "code",
   "execution_count": 18,
   "id": "f3034ef7",
   "metadata": {
    "ExecuteTime": {
     "end_time": "2022-09-30T03:12:23.077826Z",
     "start_time": "2022-09-30T03:12:23.060819Z"
    }
   },
   "outputs": [],
   "source": [
    "#Productos_T.to_csv(f'{NombreAlmacen}.csv', index=False,sep='|',encoding='utf-8')"
   ]
  },
  {
   "cell_type": "code",
   "execution_count": 19,
   "id": "111dde2f",
   "metadata": {
    "ExecuteTime": {
     "end_time": "2022-10-03T16:08:10.046276Z",
     "start_time": "2022-10-03T16:08:10.022276Z"
    }
   },
   "outputs": [
    {
     "data": {
      "text/plain": [
       "0                10 kg\n",
       "1     25 und  500 g cu\n",
       "2                10 kg\n",
       "3                10 kg\n",
       "4                 5 kg\n",
       "5                 5 kg\n",
       "6                 3 kg\n",
       "7                 1 kg\n",
       "8                 5 kg\n",
       "9                10 kg\n",
       "10                5 kg\n",
       "11     25 und 500 g cu\n",
       "12                4 kg\n",
       "13                1 kg\n",
       "14               10 kg\n",
       "15                5 kg\n",
       "16               10 kg\n",
       "17                3 kg\n",
       "18                3 kg\n",
       "19              2.5 kg\n",
       "20              2.5 kg\n",
       "21                5 kg\n",
       "22                1 kg\n",
       "23                4 kg\n",
       "Name: Cantidad, dtype: object"
      ]
     },
     "execution_count": 19,
     "metadata": {},
     "output_type": "execute_result"
    }
   ],
   "source": [
    "Productos_T['Cantidad']"
   ]
  },
  {
   "cell_type": "code",
   "execution_count": 20,
   "id": "f13f07a3",
   "metadata": {},
   "outputs": [],
   "source": [
    "\n",
    "\n",
    "# Ver todo el contenido de un dataframe\n",
    "pd.options.display.max_columns = None\n",
    "pd.options.display.max_rows = None\n",
    "pd.options.display.width = None\n",
    "pd.options.display.max_colwidth = None"
   ]
  },
  {
   "cell_type": "code",
   "execution_count": 21,
   "id": "351bda6d",
   "metadata": {},
   "outputs": [
    {
     "data": {
      "text/html": [
       "<div>\n",
       "<style scoped>\n",
       "    .dataframe tbody tr th:only-of-type {\n",
       "        vertical-align: middle;\n",
       "    }\n",
       "\n",
       "    .dataframe tbody tr th {\n",
       "        vertical-align: top;\n",
       "    }\n",
       "\n",
       "    .dataframe thead th {\n",
       "        text-align: right;\n",
       "    }\n",
       "</style>\n",
       "<table border=\"1\" class=\"dataframe\">\n",
       "  <thead>\n",
       "    <tr style=\"text-align: right;\">\n",
       "      <th></th>\n",
       "      <th>Nombre</th>\n",
       "      <th>Cantidad</th>\n",
       "    </tr>\n",
       "  </thead>\n",
       "  <tbody>\n",
       "    <tr>\n",
       "      <th>0</th>\n",
       "      <td>arroz vitarroz plus supremo x 10 kg</td>\n",
       "      <td>10 kg</td>\n",
       "    </tr>\n",
       "    <tr>\n",
       "      <th>1</th>\n",
       "      <td>arroz diana x 25 und x 500 g cu</td>\n",
       "      <td>25 und  500 g cu</td>\n",
       "    </tr>\n",
       "    <tr>\n",
       "      <th>2</th>\n",
       "      <td>arroz cuisine&amp;amp;co blanco x10000 g</td>\n",
       "      <td>10 kg</td>\n",
       "    </tr>\n",
       "    <tr>\n",
       "      <th>3</th>\n",
       "      <td>arroz diana x 10 kg</td>\n",
       "      <td>10 kg</td>\n",
       "    </tr>\n",
       "    <tr>\n",
       "      <th>4</th>\n",
       "      <td>arroz diana x 5 kg</td>\n",
       "      <td>5 kg</td>\n",
       "    </tr>\n",
       "    <tr>\n",
       "      <th>5</th>\n",
       "      <td>arroz supremo x 5 kg</td>\n",
       "      <td>5 kg</td>\n",
       "    </tr>\n",
       "    <tr>\n",
       "      <th>6</th>\n",
       "      <td>arroz diana x 3 kg</td>\n",
       "      <td>3 kg</td>\n",
       "    </tr>\n",
       "    <tr>\n",
       "      <th>7</th>\n",
       "      <td>arroz diana x 1 kg</td>\n",
       "      <td>1 kg</td>\n",
       "    </tr>\n",
       "    <tr>\n",
       "      <th>8</th>\n",
       "      <td>arroz cuisine&amp;amp;co blanco x5000 g</td>\n",
       "      <td>5 kg</td>\n",
       "    </tr>\n",
       "    <tr>\n",
       "      <th>9</th>\n",
       "      <td>arroz roa x 10 kg</td>\n",
       "      <td>10 kg</td>\n",
       "    </tr>\n",
       "    <tr>\n",
       "      <th>10</th>\n",
       "      <td>arroz florhuila x 5 kg</td>\n",
       "      <td>5 kg</td>\n",
       "    </tr>\n",
       "    <tr>\n",
       "      <th>11</th>\n",
       "      <td>arroz máxima x25 und x500 g cu</td>\n",
       "      <td>25 und 500 g cu</td>\n",
       "    </tr>\n",
       "    <tr>\n",
       "      <th>12</th>\n",
       "      <td>arroz diana premium x 4000 g</td>\n",
       "      <td>4 kg</td>\n",
       "    </tr>\n",
       "    <tr>\n",
       "      <th>13</th>\n",
       "      <td>arroz diana integral x 1000 g</td>\n",
       "      <td>1 kg</td>\n",
       "    </tr>\n",
       "    <tr>\n",
       "      <th>14</th>\n",
       "      <td>arroz florhuila x 10 kg</td>\n",
       "      <td>10 kg</td>\n",
       "    </tr>\n",
       "    <tr>\n",
       "      <th>15</th>\n",
       "      <td>arroz roa x5 kg</td>\n",
       "      <td>5 kg</td>\n",
       "    </tr>\n",
       "    <tr>\n",
       "      <th>16</th>\n",
       "      <td>arroz casanare x 10 kg</td>\n",
       "      <td>10 kg</td>\n",
       "    </tr>\n",
       "    <tr>\n",
       "      <th>17</th>\n",
       "      <td>arroz roa blanco fortiplus x3000 g</td>\n",
       "      <td>3 kg</td>\n",
       "    </tr>\n",
       "    <tr>\n",
       "      <th>18</th>\n",
       "      <td>arroz supremo x 3000 g</td>\n",
       "      <td>3 kg</td>\n",
       "    </tr>\n",
       "    <tr>\n",
       "      <th>19</th>\n",
       "      <td>arroz diana premium x 2.5 kg</td>\n",
       "      <td>2.5 kg</td>\n",
       "    </tr>\n",
       "    <tr>\n",
       "      <th>20</th>\n",
       "      <td>arroz castellano x 2.5 kg</td>\n",
       "      <td>2.5 kg</td>\n",
       "    </tr>\n",
       "    <tr>\n",
       "      <th>21</th>\n",
       "      <td>arroz blanco máxima x5 kg</td>\n",
       "      <td>5 kg</td>\n",
       "    </tr>\n",
       "    <tr>\n",
       "      <th>22</th>\n",
       "      <td>arroz parbolizado doña pepa 1000 g</td>\n",
       "      <td>1 kg</td>\n",
       "    </tr>\n",
       "    <tr>\n",
       "      <th>23</th>\n",
       "      <td>arroz castellano premium blanco x4000 g</td>\n",
       "      <td>4 kg</td>\n",
       "    </tr>\n",
       "  </tbody>\n",
       "</table>\n",
       "</div>"
      ],
      "text/plain": [
       "                                     Nombre          Cantidad\n",
       "0       arroz vitarroz plus supremo x 10 kg             10 kg\n",
       "1           arroz diana x 25 und x 500 g cu  25 und  500 g cu\n",
       "2      arroz cuisine&amp;co blanco x10000 g             10 kg\n",
       "3                       arroz diana x 10 kg             10 kg\n",
       "4                        arroz diana x 5 kg              5 kg\n",
       "5                      arroz supremo x 5 kg              5 kg\n",
       "6                        arroz diana x 3 kg              3 kg\n",
       "7                        arroz diana x 1 kg              1 kg\n",
       "8       arroz cuisine&amp;co blanco x5000 g              5 kg\n",
       "9                         arroz roa x 10 kg             10 kg\n",
       "10                   arroz florhuila x 5 kg              5 kg\n",
       "11           arroz máxima x25 und x500 g cu   25 und 500 g cu\n",
       "12             arroz diana premium x 4000 g              4 kg\n",
       "13            arroz diana integral x 1000 g              1 kg\n",
       "14                  arroz florhuila x 10 kg             10 kg\n",
       "15                          arroz roa x5 kg              5 kg\n",
       "16                   arroz casanare x 10 kg             10 kg\n",
       "17       arroz roa blanco fortiplus x3000 g              3 kg\n",
       "18                   arroz supremo x 3000 g              3 kg\n",
       "19             arroz diana premium x 2.5 kg            2.5 kg\n",
       "20                arroz castellano x 2.5 kg            2.5 kg\n",
       "21                arroz blanco máxima x5 kg              5 kg\n",
       "22       arroz parbolizado doña pepa 1000 g              1 kg\n",
       "23  arroz castellano premium blanco x4000 g              4 kg"
      ]
     },
     "execution_count": 21,
     "metadata": {},
     "output_type": "execute_result"
    }
   ],
   "source": [
    "m = Productos_T[['Nombre','Cantidad']]\n",
    "m"
   ]
  },
  {
   "cell_type": "code",
   "execution_count": 22,
   "id": "3d4ca2b9",
   "metadata": {},
   "outputs": [],
   "source": [
    "#Productos_T['Nombre']"
   ]
  }
 ],
 "metadata": {
  "hide_input": false,
  "kernelspec": {
   "display_name": "Python 3.10.7 64-bit",
   "language": "python",
   "name": "python3"
  },
  "language_info": {
   "codemirror_mode": {
    "name": "ipython",
    "version": 3
   },
   "file_extension": ".py",
   "mimetype": "text/x-python",
   "name": "python",
   "nbconvert_exporter": "python",
   "pygments_lexer": "ipython3",
   "version": "3.10.7"
  },
  "toc": {
   "base_numbering": 1,
   "nav_menu": {},
   "number_sections": true,
   "sideBar": true,
   "skip_h1_title": false,
   "title_cell": "Table of Contents",
   "title_sidebar": "Contents",
   "toc_cell": false,
   "toc_position": {},
   "toc_section_display": true,
   "toc_window_display": false
  },
  "varInspector": {
   "cols": {
    "lenName": 16,
    "lenType": 16,
    "lenVar": 40
   },
   "kernels_config": {
    "python": {
     "delete_cmd_postfix": "",
     "delete_cmd_prefix": "del ",
     "library": "var_list.py",
     "varRefreshCmd": "print(var_dic_list())"
    },
    "r": {
     "delete_cmd_postfix": ") ",
     "delete_cmd_prefix": "rm(",
     "library": "var_list.r",
     "varRefreshCmd": "cat(var_dic_list()) "
    }
   },
   "types_to_exclude": [
    "module",
    "function",
    "builtin_function_or_method",
    "instance",
    "_Feature"
   ],
   "window_display": false
  },
  "vscode": {
   "interpreter": {
    "hash": "0f2f6c680cf484319d387fabac80ca4ff4fc33965036e02100b3fe02600f1423"
   }
  }
 },
 "nbformat": 4,
 "nbformat_minor": 5
}
