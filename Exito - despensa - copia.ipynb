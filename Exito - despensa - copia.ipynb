{
 "cells": [
  {
   "cell_type": "code",
   "execution_count": 1,
   "id": "7c25d6ea",
   "metadata": {
    "ExecuteTime": {
     "end_time": "2022-10-03T15:58:55.084328Z",
     "start_time": "2022-10-03T15:58:54.472035Z"
    }
   },
   "outputs": [],
   "source": [
    "#librerias\n",
    "from selenium import webdriver\n",
    "from selenium.webdriver.support.ui import WebDriverWait\n",
    "from selenium.webdriver.support import expected_conditions as EC\n",
    "from selenium.webdriver.common.by import By\n",
    "from bs4 import BeautifulSoup\n",
    "import time\n",
    "from selenium.webdriver.chrome.service import Service\n",
    "from selenium.webdriver.chrome.options import Options\n",
    "import json\n",
    "import pandas as pd\n",
    "from datetime import datetime\n",
    "import numpy as np\n",
    "import re\n",
    "from selenium.common.exceptions import TimeoutException"
   ]
  },
  {
   "cell_type": "code",
   "execution_count": 2,
   "id": "392364b1",
   "metadata": {},
   "outputs": [
    {
     "name": "stdout",
     "output_type": "stream",
     "text": [
      "Se importo correctamente la funcion EliminarInusuales y Agrupar\n"
     ]
    }
   ],
   "source": [
    "import FunClear  # Funciones creadas"
   ]
  },
  {
   "cell_type": "code",
   "execution_count": 3,
   "id": "d30823bb",
   "metadata": {
    "ExecuteTime": {
     "end_time": "2022-10-03T15:58:58.266174Z",
     "start_time": "2022-10-03T15:58:58.254162Z"
    }
   },
   "outputs": [],
   "source": [
    "##Nuevas\n",
    "def buscar(elemento,busqueda):\n",
    "    WebDriverWait(driver, 10)\\\n",
    "        .until(EC.element_to_be_clickable((By.CSS_SELECTOR,elemento)))\\\n",
    "        .send_keys(busqueda)\n",
    "    \n",
    "def Click(elemento):\n",
    "    WebDriverWait(driver, 5)\\\n",
    "        .until(EC.element_to_be_clickable((By.CSS_SELECTOR,elemento))).click()\n",
    "  \n",
    "\n",
    "def LeerJson(path):\n",
    "    \n",
    "    WebDriverWait(driver, 25).until(EC.presence_of_element_located((By.XPATH,path)))\n",
    "    Json_Jumbo=driver.find_element(\"xpath\",path).get_attribute(\"text\")\n",
    "    Json_Jumbo = json.loads(Json_Jumbo)\n",
    "    DatosProducto = Json_Jumbo['itemListElement'] # Se toma el Json anidado que contiene los datos del producto\n",
    "    return DatosProducto\n",
    "\n"
   ]
  },
  {
   "cell_type": "code",
   "execution_count": 4,
   "id": "26c5858a",
   "metadata": {
    "ExecuteTime": {
     "end_time": "2022-10-03T15:58:59.653328Z",
     "start_time": "2022-10-03T15:58:59.646321Z"
    }
   },
   "outputs": [],
   "source": [
    "#Funcion para convertir palabras con acentos en palabras sin acentos\n",
    "def categoria(producto):\n",
    "    \n",
    "    m =producto.find(\" \")\n",
    "    remplazo = producto[:m].maketrans(\"áéíóú\", \"aeiou\",\"*123456789\") #Remplazo palabras que contengan acentos y borrar caracteres *123456789\n",
    "    producto = producto[:m].translate(remplazo).upper() #Uso translate para poder observar correctamente\n",
    "    return producto\n"
   ]
  },
  {
   "cell_type": "code",
   "execution_count": 5,
   "id": "1b2d2829",
   "metadata": {},
   "outputs": [],
   "source": [
    "#Funcion para obtener la cantidad de cada producto\n",
    "def cantidadx(producto):\n",
    "    \n",
    "    producto = re.findall(r'( x.+\\d{0,6}.\\w{1,3}|\\d{1,5}..\\w{0,5}| \\d{1,3}\\D\\d{1,3}.\\w{1,3})',producto) #Expresion regular para obtener las cantidades de los productos\n",
    "    producto = \" \".join(producto).replace('x', '') #Eliminamos la x en la cantidad de productos y pasamos los datos a str\n",
    "\n",
    "    #----Remplazar valores inusuales----\n",
    "    producto = re.sub(' \\.', '.',producto) #Eliminamos espacios vacios en valores decimales\n",
    "    \n",
    "    return producto #Retornar en minusculas y sin espacios al inicio y al final \n",
    "\n",
    "def EliminarValoresSeparador(producto):\n",
    "    \n",
    "    #Primero se remplaza valores de str que son inusuales\n",
    "    producto = producto.replace(';', '')\n",
    "    producto = producto.replace('\\r\\n', '')\n",
    "    producto = producto.replace('\\n', '')\n",
    "    producto = producto.replace('&quot', '')\n",
    "    \n",
    "    return producto\n",
    "\n",
    "#Función para separar el numero de la unidad de medida en el nombre\n",
    "def separador(producto):\n",
    "\n",
    "    patron =r'(\\d{1,5})([a-z]{0,7})' #Expresion regular para dar espacio entre numeros y letras\n",
    "    producto = re.sub(patron,r'\\1 \\2',producto) #Separamos los numeros que estan junto a palabras de unidad de medida\n",
    "    producto = re.sub(' +', ' ',producto) #Esta linea solo deja un espacio entre palabras eliminando espacios inecesarios\n",
    "    producto = re.sub(' \\,', '.',producto) #Eliminamos espacios vacios en valores decimales\n",
    "    producto = re.sub(' \\.', '.',producto) #Eliminamos espacios vacios en valores decimales\n",
    "    producto = producto.replace('-', '')\n",
    "    \n",
    "    return producto.lower()\n"
   ]
  },
  {
   "cell_type": "code",
   "execution_count": 6,
   "id": "cfdc8152",
   "metadata": {
    "ExecuteTime": {
     "end_time": "2022-10-03T15:59:02.155418Z",
     "start_time": "2022-10-03T15:59:02.147416Z"
    }
   },
   "outputs": [],
   "source": [
    "#Ruta de chorme compatible \n",
    "driver_path = \"C:\\\\Users\\\\danie\\\\OneDrive\\\\Documentos\\\\Notebooks\\\\chromedriver.exe\"\n",
    "## Opciones con las que inicia google chrome \n",
    "options = webdriver.ChromeOptions()\n",
    "options.add_argument('--ignore-certificate-errors')\n",
    "options.add_argument(\"--headless\")\n",
    "options.add_argument('--start-maximized')\n",
    "options.add_argument('--disable-extensions')\n",
    "\n",
    "s = Service(driver_path)#Se agrega el path como objeto para evitar errores \n"
   ]
  },
  {
   "cell_type": "markdown",
   "id": "f32168a5",
   "metadata": {},
   "source": [
    "# Main"
   ]
  },
  {
   "cell_type": "markdown",
   "id": "38acc50c",
   "metadata": {},
   "source": [
    "## Función buscar:\n",
    "- Recibe como parametro el input class del cuadro de busqueda de la pagina y el producto a buscar\n",
    "- Se antepone input antes de colocar el input class\n",
    "- Si el input class tiene espacios estos se remplazan por puntos"
   ]
  },
  {
   "cell_type": "markdown",
   "id": "e920443f",
   "metadata": {
    "ExecuteTime": {
     "end_time": "2022-09-08T15:48:46.892900Z",
     "start_time": "2022-09-08T15:48:46.878702Z"
    }
   },
   "source": [
    "## Funcion Click\n",
    "- Recibe como parametro el elemento clikeable anteponiendo el formato(div, footer, etc)\n"
   ]
  },
  {
   "cell_type": "code",
   "execution_count": 26,
   "id": "0ce32539",
   "metadata": {},
   "outputs": [
    {
     "name": "stdout",
     "output_type": "stream",
     "text": [
      "Finalizo correctamente el proceso\n"
     ]
    },
    {
     "ename": "InvalidSelectorException",
     "evalue": "Message: invalid selector: Unable to locate an element with the xpath expression /html/body/div[10]/div[1]/div/div/div[2]/div[4]/div[1]/div[2]/div/div/div/div[1]/div[2]/div/ because of the following error:\nSyntaxError: Failed to execute 'evaluate' on 'Document': The string '/html/body/div[10]/div[1]/div/div/div[2]/div[4]/div[1]/div[2]/div/div/div/div[1]/div[2]/div/' is not a valid XPath expression.\n  (Session info: chrome=107.0.5304.107)\nStacktrace:\nBacktrace:\n\tOrdinal0 [0x00EE1ED3+2236115]\n\tOrdinal0 [0x00E792F1+1807089]\n\tOrdinal0 [0x00D866FD+812797]\n\tOrdinal0 [0x00D892B4+823988]\n\tOrdinal0 [0x00D89165+823653]\n\tOrdinal0 [0x00D89400+824320]\n\tOrdinal0 [0x00DB5352+1004370]\n\tOrdinal0 [0x00DB57CB+1005515]\n\tOrdinal0 [0x00DE7632+1209906]\n\tOrdinal0 [0x00DD1AD4+1120980]\n\tOrdinal0 [0x00DE59E2+1202658]\n\tOrdinal0 [0x00DD18A6+1120422]\n\tOrdinal0 [0x00DAA73D+960317]\n\tOrdinal0 [0x00DAB71F+964383]\n\tGetHandleVerifier [0x0118E7E2+2743074]\n\tGetHandleVerifier [0x011808D4+2685972]\n\tGetHandleVerifier [0x00F72BAA+532202]\n\tGetHandleVerifier [0x00F71990+527568]\n\tOrdinal0 [0x00E8080C+1837068]\n\tOrdinal0 [0x00E84CD8+1854680]\n\tOrdinal0 [0x00E84DC5+1854917]\n\tOrdinal0 [0x00E8ED64+1895780]\n\tBaseThreadInitThunk [0x766F6739+25]\n\tRtlGetFullPathName_UEx [0x770B8FD2+1218]\n\tRtlGetFullPathName_UEx [0x770B8F9D+1165]\n",
     "output_type": "error",
     "traceback": [
      "\u001b[1;31m---------------------------------------------------------------------------\u001b[0m",
      "\u001b[1;31mInvalidSelectorException\u001b[0m                  Traceback (most recent call last)",
      "Cell \u001b[1;32mIn [26], line 61\u001b[0m\n\u001b[0;32m     59\u001b[0m driver\u001b[39m.\u001b[39mfind_element(By\u001b[39m.\u001b[39mCLASS_NAME, \u001b[39m'\u001b[39m\u001b[39mcss-1g6gooi\u001b[39m\u001b[39m'\u001b[39m)\u001b[39m.\u001b[39mclick()\n\u001b[0;32m     60\u001b[0m \u001b[39m#driver.find_element(By.CLASS_NAME, 'css-1g6gooi').send_keys(\"Tunja\")\u001b[39;00m\n\u001b[1;32m---> 61\u001b[0m driver\u001b[39m.\u001b[39mfind_element(By\u001b[39m.\u001b[39mXPATH, \u001b[39m\"\u001b[39m\u001b[39m/html/body/div[10]/div[1]/div/div/div[2]/div[4]/div[1]/div[2]/div/div/div/div[1]/div[2]/div/\u001b[39m\u001b[39m\"\u001b[39m)\u001b[39m.\u001b[39msend_keys(\u001b[39m\"\u001b[39m\u001b[39mTunja\u001b[39m\u001b[39m\"\u001b[39m)\n\u001b[0;32m     62\u001b[0m driver\u001b[39m.\u001b[39mfind_element(By\u001b[39m.\u001b[39mXPATH, \u001b[39m\"\u001b[39m\u001b[39m//form[@id=\u001b[39m\u001b[39m'\u001b[39m\u001b[39mloginForm\u001b[39m\u001b[39m'\u001b[39m\u001b[39m]\u001b[39m\u001b[39m\"\u001b[39m)\n\u001b[0;32m     64\u001b[0m \u001b[39m# #Scroll\u001b[39;00m\n\u001b[0;32m     65\u001b[0m \u001b[39m#     Element_clickeable2 = 'a.vtex-button.bw1.ba.fw5.v-mid.relative.pa0.lh-solid.br2.min-h-small.t-action--small.bg-action-primary.b--action-primary.c-on-action-primary.hover-bg-action-primary.hover-b--action-primary.hover-c-on-action-primary.pointer.inline-flex.items-center.no-underline'\u001b[39;00m\n\u001b[0;32m     66\u001b[0m \u001b[39m#     path= '/html/body/div[2]/div/div[1]/div/div[4]/div/div/section/div[2]/div/div[4]/div/div[2]/div/div/div[2]/div/div[5]/div/div/div/script'      \u001b[39;00m\n\u001b[1;32m   (...)\u001b[0m\n\u001b[0;32m     91\u001b[0m         \n\u001b[0;32m     92\u001b[0m \u001b[39m#         driver.get(Paginaweb) \u001b[39;00m\n",
      "File \u001b[1;32mc:\\Users\\danie\\AppData\\Local\\Programs\\Python\\Python310\\lib\\site-packages\\selenium\\webdriver\\remote\\webdriver.py:855\u001b[0m, in \u001b[0;36mWebDriver.find_element\u001b[1;34m(self, by, value)\u001b[0m\n\u001b[0;32m    852\u001b[0m     by \u001b[39m=\u001b[39m By\u001b[39m.\u001b[39mCSS_SELECTOR\n\u001b[0;32m    853\u001b[0m     value \u001b[39m=\u001b[39m \u001b[39m'\u001b[39m\u001b[39m[name=\u001b[39m\u001b[39m\"\u001b[39m\u001b[39m%s\u001b[39;00m\u001b[39m\"\u001b[39m\u001b[39m]\u001b[39m\u001b[39m'\u001b[39m \u001b[39m%\u001b[39m value\n\u001b[1;32m--> 855\u001b[0m \u001b[39mreturn\u001b[39;00m \u001b[39mself\u001b[39;49m\u001b[39m.\u001b[39;49mexecute(Command\u001b[39m.\u001b[39;49mFIND_ELEMENT, {\n\u001b[0;32m    856\u001b[0m     \u001b[39m'\u001b[39;49m\u001b[39musing\u001b[39;49m\u001b[39m'\u001b[39;49m: by,\n\u001b[0;32m    857\u001b[0m     \u001b[39m'\u001b[39;49m\u001b[39mvalue\u001b[39;49m\u001b[39m'\u001b[39;49m: value})[\u001b[39m'\u001b[39m\u001b[39mvalue\u001b[39m\u001b[39m'\u001b[39m]\n",
      "File \u001b[1;32mc:\\Users\\danie\\AppData\\Local\\Programs\\Python\\Python310\\lib\\site-packages\\selenium\\webdriver\\remote\\webdriver.py:428\u001b[0m, in \u001b[0;36mWebDriver.execute\u001b[1;34m(self, driver_command, params)\u001b[0m\n\u001b[0;32m    426\u001b[0m response \u001b[39m=\u001b[39m \u001b[39mself\u001b[39m\u001b[39m.\u001b[39mcommand_executor\u001b[39m.\u001b[39mexecute(driver_command, params)\n\u001b[0;32m    427\u001b[0m \u001b[39mif\u001b[39;00m response:\n\u001b[1;32m--> 428\u001b[0m     \u001b[39mself\u001b[39;49m\u001b[39m.\u001b[39;49merror_handler\u001b[39m.\u001b[39;49mcheck_response(response)\n\u001b[0;32m    429\u001b[0m     response[\u001b[39m'\u001b[39m\u001b[39mvalue\u001b[39m\u001b[39m'\u001b[39m] \u001b[39m=\u001b[39m \u001b[39mself\u001b[39m\u001b[39m.\u001b[39m_unwrap_value(\n\u001b[0;32m    430\u001b[0m         response\u001b[39m.\u001b[39mget(\u001b[39m'\u001b[39m\u001b[39mvalue\u001b[39m\u001b[39m'\u001b[39m, \u001b[39mNone\u001b[39;00m))\n\u001b[0;32m    431\u001b[0m     \u001b[39mreturn\u001b[39;00m response\n",
      "File \u001b[1;32mc:\\Users\\danie\\AppData\\Local\\Programs\\Python\\Python310\\lib\\site-packages\\selenium\\webdriver\\remote\\errorhandler.py:243\u001b[0m, in \u001b[0;36mErrorHandler.check_response\u001b[1;34m(self, response)\u001b[0m\n\u001b[0;32m    241\u001b[0m         alert_text \u001b[39m=\u001b[39m value[\u001b[39m'\u001b[39m\u001b[39malert\u001b[39m\u001b[39m'\u001b[39m]\u001b[39m.\u001b[39mget(\u001b[39m'\u001b[39m\u001b[39mtext\u001b[39m\u001b[39m'\u001b[39m)\n\u001b[0;32m    242\u001b[0m     \u001b[39mraise\u001b[39;00m exception_class(message, screen, stacktrace, alert_text)  \u001b[39m# type: ignore[call-arg]  # mypy is not smart enough here\u001b[39;00m\n\u001b[1;32m--> 243\u001b[0m \u001b[39mraise\u001b[39;00m exception_class(message, screen, stacktrace)\n",
      "\u001b[1;31mInvalidSelectorException\u001b[0m: Message: invalid selector: Unable to locate an element with the xpath expression /html/body/div[10]/div[1]/div/div/div[2]/div[4]/div[1]/div[2]/div/div/div/div[1]/div[2]/div/ because of the following error:\nSyntaxError: Failed to execute 'evaluate' on 'Document': The string '/html/body/div[10]/div[1]/div/div/div[2]/div[4]/div[1]/div[2]/div/div/div/div[1]/div[2]/div/' is not a valid XPath expression.\n  (Session info: chrome=107.0.5304.107)\nStacktrace:\nBacktrace:\n\tOrdinal0 [0x00EE1ED3+2236115]\n\tOrdinal0 [0x00E792F1+1807089]\n\tOrdinal0 [0x00D866FD+812797]\n\tOrdinal0 [0x00D892B4+823988]\n\tOrdinal0 [0x00D89165+823653]\n\tOrdinal0 [0x00D89400+824320]\n\tOrdinal0 [0x00DB5352+1004370]\n\tOrdinal0 [0x00DB57CB+1005515]\n\tOrdinal0 [0x00DE7632+1209906]\n\tOrdinal0 [0x00DD1AD4+1120980]\n\tOrdinal0 [0x00DE59E2+1202658]\n\tOrdinal0 [0x00DD18A6+1120422]\n\tOrdinal0 [0x00DAA73D+960317]\n\tOrdinal0 [0x00DAB71F+964383]\n\tGetHandleVerifier [0x0118E7E2+2743074]\n\tGetHandleVerifier [0x011808D4+2685972]\n\tGetHandleVerifier [0x00F72BAA+532202]\n\tGetHandleVerifier [0x00F71990+527568]\n\tOrdinal0 [0x00E8080C+1837068]\n\tOrdinal0 [0x00E84CD8+1854680]\n\tOrdinal0 [0x00E84DC5+1854917]\n\tOrdinal0 [0x00E8ED64+1895780]\n\tBaseThreadInitThunk [0x766F6739+25]\n\tRtlGetFullPathName_UEx [0x770B8FD2+1218]\n\tRtlGetFullPathName_UEx [0x770B8F9D+1165]\n"
     ]
    }
   ],
   "source": [
    "###### PRUEBA RESISTENCIA CODIGO ######\n",
    "\n",
    "Paginaweb=\"https://www.exito.com/\"\n",
    "\n",
    "\n",
    "driver = webdriver.Chrome(service=s)\n",
    "driver.maximize_window()\n",
    "driver.implicitly_wait (10)\n",
    "driver.get(Paginaweb) \n",
    "\n",
    "ListaProducto=  ['Arroz']\n",
    "CantMas = dict([('Arroz', 3)])\n",
    "\n",
    "p = driver.get_cookies\n",
    "\n",
    "Json_Total=[]\n",
    "time.sleep(2)\n",
    "numero_intentos = 3\n",
    "try:\n",
    "    for i in range(len(ListaProducto)):\n",
    "        time.sleep(2)\n",
    "    #Buscar producto\n",
    "        producto = ListaProducto[i]\n",
    "        input_class = 'input.vtex-styleguide-9-x-input.ma0.border-box.vtex-styleguide-9-x-hideDecorators.vtex-styleguide-9-x-noAppearance.br2.br-0.br--left.w-100.bn.outline-0.bg-base.c-on-base.b--muted-4.hover-b--muted-3.t-body.pl5'\n",
    "  \n",
    "        \n",
    "        try:\n",
    "            buscar(input_class,producto)\n",
    "            time.sleep(2)\n",
    "        except:\n",
    "\n",
    "            print('Entro en bucle de buscar producto '+producto)\n",
    "            driver.get(Paginaweb)  \n",
    "            buscar(input_class,producto)\n",
    "                        \n",
    "     #Click en buscar\n",
    "\n",
    "        Element_clickeable = 'footer.vtex-search-2-x-tileListFooter' \n",
    "        try:\n",
    "            Click(Element_clickeable)\n",
    "            time.sleep(1)\n",
    "        except:\n",
    "\n",
    "            try:\n",
    "                print('Entro en except de click '+producto)\n",
    "                time.sleep(1)\n",
    "                driver.get(Paginaweb)\n",
    "                time.sleep(1) \n",
    "                buscar(input_class,producto)\n",
    "                time.sleep(2)\n",
    "                Click(Element_clickeable)\n",
    "            \n",
    "            except:\n",
    "                i = i+1\n",
    "                continue\n",
    "    \n",
    "\n",
    "    #driver.find_element(By.CLASS_NAME, 'css-yiuvdt').click()\n",
    "    driver.find_element(By.CLASS_NAME, 'css-1g6gooi').click()\n",
    "    #driver.find_element(By.CLASS_NAME, 'css-1g6gooi').send_keys(\"Tunja\")\n",
    "    driver.find_element(By.XPATH, \"/html/body/div[10]/div[1]/div/div/div[2]/div[4]/div[1]/div[2]/div/div/div/div[1]/div[2]/div/\").send_keys(\"Tunja\")\n",
    "    driver.find_element(By.XPATH, \"//form[@id='loginForm']\")\n",
    "    \n",
    "    # #Scroll\n",
    "    #     Element_clickeable2 = 'a.vtex-button.bw1.ba.fw5.v-mid.relative.pa0.lh-solid.br2.min-h-small.t-action--small.bg-action-primary.b--action-primary.c-on-action-primary.hover-bg-action-primary.hover-b--action-primary.hover-c-on-action-primary.pointer.inline-flex.items-center.no-underline'\n",
    "    #     path= '/html/body/div[2]/div/div[1]/div/div[4]/div/div/section/div[2]/div/div[4]/div/div[2]/div/div/div[2]/div/div[5]/div/div/div/script'      \n",
    "\n",
    "    #     try:\n",
    "            \n",
    "    #         for j in range(CantMas[ListaProducto[i]]):\n",
    "    #             Click(Element_clickeable2)\n",
    "    #             time.sleep(2)\n",
    "    #         time.sleep(1)\n",
    "    #         Json_Total += LeerJson(path) #Esto deja un JSON con el que se trabajara los datos\n",
    "\n",
    "    #     except:\n",
    "    #         try: \n",
    "    #             path2= '/html/body/div[3]/div/div[1]/div/script'      \n",
    "    #             print('Entro en try de scroll 1 '+producto)\n",
    "    #             Json_Total += LeerJson(path2)\n",
    "    #             driver.get(Paginaweb)\n",
    "    #         except:\n",
    "    #             print('Entro en try de scroll 2 '+producto)\n",
    "\n",
    "    #             driver.get(Paginaweb)\n",
    "                             \n",
    "    # #Guardar en Json     \n",
    "\n",
    "    # #limpiar\n",
    "    #     if(i>=1):\n",
    "            \n",
    "    #         driver.get(Paginaweb) \n",
    "            \n",
    "except TimeoutException:\n",
    "    driver.set_page_load_timeout(15)\n",
    "    pass\n",
    "    print('El proceso finalizo con algo inusual')\n",
    "    \n",
    "finally:\n",
    "    print('Finalizo correctamente el proceso')\n",
    "    #driver.close()"
   ]
  },
  {
   "cell_type": "markdown",
   "id": "751a6bb7",
   "metadata": {},
   "source": [
    "# Procesamiento de datos"
   ]
  },
  {
   "cell_type": "code",
   "execution_count": 8,
   "id": "d341f471",
   "metadata": {
    "ExecuteTime": {
     "end_time": "2022-10-03T16:04:42.314518Z",
     "start_time": "2022-10-03T16:04:42.265252Z"
    }
   },
   "outputs": [
    {
     "ename": "KeyError",
     "evalue": "'item.offers.offers'",
     "output_type": "error",
     "traceback": [
      "\u001b[1;31m---------------------------------------------------------------------------\u001b[0m",
      "\u001b[1;31mKeyError\u001b[0m                                  Traceback (most recent call last)",
      "File \u001b[1;32mc:\\Users\\danie\\AppData\\Local\\Programs\\Python\\Python310\\lib\\site-packages\\pandas\\core\\indexes\\base.py:3800\u001b[0m, in \u001b[0;36mIndex.get_loc\u001b[1;34m(self, key, method, tolerance)\u001b[0m\n\u001b[0;32m   3799\u001b[0m \u001b[39mtry\u001b[39;00m:\n\u001b[1;32m-> 3800\u001b[0m     \u001b[39mreturn\u001b[39;00m \u001b[39mself\u001b[39;49m\u001b[39m.\u001b[39;49m_engine\u001b[39m.\u001b[39;49mget_loc(casted_key)\n\u001b[0;32m   3801\u001b[0m \u001b[39mexcept\u001b[39;00m \u001b[39mKeyError\u001b[39;00m \u001b[39mas\u001b[39;00m err:\n",
      "File \u001b[1;32mc:\\Users\\danie\\AppData\\Local\\Programs\\Python\\Python310\\lib\\site-packages\\pandas\\_libs\\index.pyx:138\u001b[0m, in \u001b[0;36mpandas._libs.index.IndexEngine.get_loc\u001b[1;34m()\u001b[0m\n",
      "File \u001b[1;32mc:\\Users\\danie\\AppData\\Local\\Programs\\Python\\Python310\\lib\\site-packages\\pandas\\_libs\\index.pyx:165\u001b[0m, in \u001b[0;36mpandas._libs.index.IndexEngine.get_loc\u001b[1;34m()\u001b[0m\n",
      "File \u001b[1;32mpandas\\_libs\\hashtable_class_helper.pxi:5745\u001b[0m, in \u001b[0;36mpandas._libs.hashtable.PyObjectHashTable.get_item\u001b[1;34m()\u001b[0m\n",
      "File \u001b[1;32mpandas\\_libs\\hashtable_class_helper.pxi:5753\u001b[0m, in \u001b[0;36mpandas._libs.hashtable.PyObjectHashTable.get_item\u001b[1;34m()\u001b[0m\n",
      "\u001b[1;31mKeyError\u001b[0m: 'item.offers.offers'",
      "\nThe above exception was the direct cause of the following exception:\n",
      "\u001b[1;31mKeyError\u001b[0m                                  Traceback (most recent call last)",
      "Cell \u001b[1;32mIn [8], line 6\u001b[0m\n\u001b[0;32m      3\u001b[0m \u001b[39m#Se accede al 3 nivel de produndidad del json \u001b[39;00m\n\u001b[0;32m      4\u001b[0m JsonAnidado\u001b[39m=\u001b[39m[] \u001b[39m#Se crea una lista vacia para llenarla con el for\u001b[39;00m\n\u001b[1;32m----> 6\u001b[0m \u001b[39mfor\u001b[39;00m i \u001b[39min\u001b[39;00m Producto_1[\u001b[39m'\u001b[39m\u001b[39mitem.offers.offers\u001b[39m\u001b[39m'\u001b[39m]:\n\u001b[0;32m      7\u001b[0m     JsonAnidado \u001b[39m+\u001b[39m\u001b[39m=\u001b[39mi \n\u001b[0;32m      9\u001b[0m \u001b[39m#Se normaliza el nivel 3 de profundidad del json    \u001b[39;00m\n",
      "File \u001b[1;32mc:\\Users\\danie\\AppData\\Local\\Programs\\Python\\Python310\\lib\\site-packages\\pandas\\core\\frame.py:3805\u001b[0m, in \u001b[0;36mDataFrame.__getitem__\u001b[1;34m(self, key)\u001b[0m\n\u001b[0;32m   3803\u001b[0m \u001b[39mif\u001b[39;00m \u001b[39mself\u001b[39m\u001b[39m.\u001b[39mcolumns\u001b[39m.\u001b[39mnlevels \u001b[39m>\u001b[39m \u001b[39m1\u001b[39m:\n\u001b[0;32m   3804\u001b[0m     \u001b[39mreturn\u001b[39;00m \u001b[39mself\u001b[39m\u001b[39m.\u001b[39m_getitem_multilevel(key)\n\u001b[1;32m-> 3805\u001b[0m indexer \u001b[39m=\u001b[39m \u001b[39mself\u001b[39;49m\u001b[39m.\u001b[39;49mcolumns\u001b[39m.\u001b[39;49mget_loc(key)\n\u001b[0;32m   3806\u001b[0m \u001b[39mif\u001b[39;00m is_integer(indexer):\n\u001b[0;32m   3807\u001b[0m     indexer \u001b[39m=\u001b[39m [indexer]\n",
      "File \u001b[1;32mc:\\Users\\danie\\AppData\\Local\\Programs\\Python\\Python310\\lib\\site-packages\\pandas\\core\\indexes\\base.py:3802\u001b[0m, in \u001b[0;36mIndex.get_loc\u001b[1;34m(self, key, method, tolerance)\u001b[0m\n\u001b[0;32m   3800\u001b[0m     \u001b[39mreturn\u001b[39;00m \u001b[39mself\u001b[39m\u001b[39m.\u001b[39m_engine\u001b[39m.\u001b[39mget_loc(casted_key)\n\u001b[0;32m   3801\u001b[0m \u001b[39mexcept\u001b[39;00m \u001b[39mKeyError\u001b[39;00m \u001b[39mas\u001b[39;00m err:\n\u001b[1;32m-> 3802\u001b[0m     \u001b[39mraise\u001b[39;00m \u001b[39mKeyError\u001b[39;00m(key) \u001b[39mfrom\u001b[39;00m \u001b[39merr\u001b[39;00m\n\u001b[0;32m   3803\u001b[0m \u001b[39mexcept\u001b[39;00m \u001b[39mTypeError\u001b[39;00m:\n\u001b[0;32m   3804\u001b[0m     \u001b[39m# If we have a listlike key, _check_indexing_error will raise\u001b[39;00m\n\u001b[0;32m   3805\u001b[0m     \u001b[39m#  InvalidIndexError. Otherwise we fall through and re-raise\u001b[39;00m\n\u001b[0;32m   3806\u001b[0m     \u001b[39m#  the TypeError.\u001b[39;00m\n\u001b[0;32m   3807\u001b[0m     \u001b[39mself\u001b[39m\u001b[39m.\u001b[39m_check_indexing_error(key)\n",
      "\u001b[1;31mKeyError\u001b[0m: 'item.offers.offers'"
     ]
    }
   ],
   "source": [
    "#Se obtienen los datos del segundo nivel de profundidad del json y se pasan a un dataframe\n",
    "Producto_1 = pd.json_normalize(Json_Total) \n",
    "#Se accede al 3 nivel de produndidad del json \n",
    "JsonAnidado=[] #Se crea una lista vacia para llenarla con el for\n",
    "\n",
    "for i in Producto_1['item.offers.offers']:\n",
    "    JsonAnidado +=i \n",
    "    \n",
    "#Se normaliza el nivel 3 de profundidad del json    \n",
    "Producto_2= pd.json_normalize(JsonAnidado) # Hacemos join de los 2 dataframe creados\n",
    "Productos_T = pd.concat([Producto_1, Producto_2], axis = 1) "
   ]
  },
  {
   "cell_type": "code",
   "execution_count": null,
   "id": "ac17b4ac",
   "metadata": {
    "ExecuteTime": {
     "end_time": "2022-10-03T16:04:44.486202Z",
     "start_time": "2022-10-03T16:04:44.475104Z"
    }
   },
   "outputs": [],
   "source": [
    "#Seleccionamos las columnas que nos interesan\n",
    "Productos_T = Productos_T[['sku','item.name','item.brand.name','item.description','priceCurrency','price','priceValidUntil','item.@id','item.image','seller.name']]\n",
    "#Renombramos las columnas \n",
    "Productos_T.columns = ['Codigo_Pro','Nombre', 'Marca', 'Descripcion', 'Moneda', 'Precio','Precio_Valido_Hasta','Url_producto', 'Url_Imagen','Almacen']"
   ]
  },
  {
   "cell_type": "code",
   "execution_count": null,
   "id": "77d37413",
   "metadata": {},
   "outputs": [],
   "source": [
    "#Obtenemos la fecha actual\n",
    "now = datetime.now()\n",
    "format = now.strftime('%Y-%m-%d')\n",
    "NombreAlmacen='Jumbo-'+format\n",
    "Ruta = \"C:\\\\Users\\\\danie\\\\OneDrive\\\\Documentos\\\\Proyecto_Supermercados_GIT\\\\Proyecto_Supermercados\\\\ProductData\\\\\""
   ]
  },
  {
   "cell_type": "markdown",
   "id": "98f55e01",
   "metadata": {},
   "source": [
    "# Limpieza de datos"
   ]
  },
  {
   "cell_type": "code",
   "execution_count": null,
   "id": "84116028",
   "metadata": {
    "ExecuteTime": {
     "end_time": "2022-10-03T16:08:04.008917Z",
     "start_time": "2022-10-03T16:08:03.992911Z"
    }
   },
   "outputs": [],
   "source": [
    "#Eliminar valores como (;,/n,/r/n) para evitar problemas de formato al momento de exportar archivo csv\n",
    "Productos_T['Nombre']=Productos_T['Nombre'].apply(lambda x: EliminarValoresSeparador(x))\n",
    "Productos_T['Descripcion']=Productos_T['Descripcion'].apply(lambda x: EliminarValoresSeparador(x))\n",
    "Productos_T['Marca']=Productos_T['Marca'].apply(lambda x: EliminarValoresSeparador(x))\n",
    "Productos_T['Nombre']=Productos_T['Nombre'].apply(lambda x: separador(x))\n",
    "Productos_T['Cantidad']=Productos_T['Nombre'].apply(lambda x: cantidadx(x))\n",
    "Productos_T['Fecha']= now.strftime('%Y-%m-%d')\n",
    "Productos_T['Categoria']=Productos_T['Nombre'].apply(lambda x: categoria(x))\n",
    "Productos_T['Cantidad']=Productos_T['Cantidad'].apply(lambda x: FunClear.EliminarInusuales(x))\n",
    "Productos_T['Categoria']=Productos_T['Categoria'].apply(lambda x: FunClear.Agrupar(x))\n",
    "Productos_T['Ciudad']='Tunja'"
   ]
  },
  {
   "cell_type": "markdown",
   "id": "77d7db37",
   "metadata": {
    "ExecuteTime": {
     "end_time": "2022-09-29T02:44:36.433213Z",
     "start_time": "2022-09-29T02:44:36.418216Z"
    }
   },
   "source": [
    "## Exporta archivo json\n"
   ]
  },
  {
   "cell_type": "code",
   "execution_count": null,
   "id": "4be5e51c",
   "metadata": {
    "ExecuteTime": {
     "end_time": "2022-10-03T16:08:02.420953Z",
     "start_time": "2022-10-03T16:08:02.405384Z"
    }
   },
   "outputs": [],
   "source": [
    "#Exportar archivo CSV\n",
    "Productos_T.to_csv(f'{Ruta}{NombreAlmacen}.csv', index=False,sep='|',encoding='utf-8')"
   ]
  },
  {
   "cell_type": "code",
   "execution_count": null,
   "id": "f13f07a3",
   "metadata": {},
   "outputs": [],
   "source": [
    "\n",
    "# Ver todo el contenido de un dataframe\n",
    "pd.options.display.max_columns = None\n",
    "pd.options.display.max_rows = None\n",
    "pd.options.display.width = None\n",
    "pd.options.display.max_colwidth = None"
   ]
  },
  {
   "cell_type": "code",
   "execution_count": null,
   "id": "d18a98ed",
   "metadata": {},
   "outputs": [],
   "source": [
    "#Productos_T"
   ]
  }
 ],
 "metadata": {
  "hide_input": false,
  "kernelspec": {
   "display_name": "Python 3.10.7 64-bit",
   "language": "python",
   "name": "python3"
  },
  "language_info": {
   "codemirror_mode": {
    "name": "ipython",
    "version": 3
   },
   "file_extension": ".py",
   "mimetype": "text/x-python",
   "name": "python",
   "nbconvert_exporter": "python",
   "pygments_lexer": "ipython3",
   "version": "3.10.7"
  },
  "toc": {
   "base_numbering": 1,
   "nav_menu": {},
   "number_sections": true,
   "sideBar": true,
   "skip_h1_title": false,
   "title_cell": "Table of Contents",
   "title_sidebar": "Contents",
   "toc_cell": false,
   "toc_position": {},
   "toc_section_display": true,
   "toc_window_display": false
  },
  "varInspector": {
   "cols": {
    "lenName": 16,
    "lenType": 16,
    "lenVar": 40
   },
   "kernels_config": {
    "python": {
     "delete_cmd_postfix": "",
     "delete_cmd_prefix": "del ",
     "library": "var_list.py",
     "varRefreshCmd": "print(var_dic_list())"
    },
    "r": {
     "delete_cmd_postfix": ") ",
     "delete_cmd_prefix": "rm(",
     "library": "var_list.r",
     "varRefreshCmd": "cat(var_dic_list()) "
    }
   },
   "types_to_exclude": [
    "module",
    "function",
    "builtin_function_or_method",
    "instance",
    "_Feature"
   ],
   "window_display": false
  },
  "vscode": {
   "interpreter": {
    "hash": "0f2f6c680cf484319d387fabac80ca4ff4fc33965036e02100b3fe02600f1423"
   }
  }
 },
 "nbformat": 4,
 "nbformat_minor": 5
}
