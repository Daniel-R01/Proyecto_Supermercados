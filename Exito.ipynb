{
 "cells": [
  {
   "cell_type": "code",
   "execution_count": 1,
   "id": "7c25d6ea",
   "metadata": {
    "ExecuteTime": {
     "end_time": "2022-09-29T02:38:39.784571Z",
     "start_time": "2022-09-29T02:38:38.568385Z"
    }
   },
   "outputs": [],
   "source": [
    "#librerias\n",
    "from selenium import webdriver\n",
    "from selenium.webdriver.support.ui import WebDriverWait\n",
    "from selenium.webdriver.support import expected_conditions as EC\n",
    "from selenium.webdriver.common.by import By\n",
    "from bs4 import BeautifulSoup\n",
    "import time\n",
    "from selenium.webdriver.chrome.service import Service\n",
    "from selenium.webdriver.chrome.options import Options\n",
    "import json\n",
    "import pandas as pd\n",
    "from datetime import date\n"
   ]
  },
  {
   "cell_type": "code",
   "execution_count": 2,
   "id": "f94bc89a",
   "metadata": {
    "ExecuteTime": {
     "end_time": "2022-09-28T15:51:17.294063Z",
     "start_time": "2022-09-28T15:51:17.278066Z"
    }
   },
   "outputs": [],
   "source": [
    "def buscar(elemento,busqueda):\n",
    "    WebDriverWait(driver, 10)\\\n",
    "        .until(EC.element_to_be_clickable((By.CSS_SELECTOR,elemento)))\\\n",
    "        .send_keys(busqueda)\n",
    "    \n",
    "def buscarx(elemento,busqueda):\n",
    "    WebDriverWait(driver, 10)\\\n",
    "        .until(EC.element_to_be_clickable((By.XPATH,elemento)))\\\n",
    "        .send_keys(busqueda)\n",
    "    \n",
    "def Click(elemento):\n",
    "    WebDriverWait(driver, 5)\\\n",
    "        .until(EC.element_to_be_clickable((By.CSS_SELECTOR,elemento))).click()\n",
    "\n",
    "def clear_buscar(elemento):\n",
    "    WebDriverWait(driver, 20)\\\n",
    "        .until(EC.element_to_be_clickable((By.CSS_SELECTOR,elemento)))\\\n",
    "        .clear()\n",
    "    \n",
    "#Se solicita el Xfullpath para hacer click\n",
    "def Click_Xpath(path):\n",
    "    WebDriverWait(driver, 15)\\\n",
    "    .until(EC.element_to_be_clickable((By.XPATH,path)))\\\n",
    "    .click()\n",
    "    \n",
    "    \n",
    "##Funcion NoClick hace referencia a los apartados que no son clikeables y se accede a el por medio del FullXpath\n",
    "def NoClick(path):\n",
    "    WebDriverWait(driver, 5).until(EC.presence_of_element_located((By.XPATH,path)))\n",
    "    url=driver.find_element(\"xpath\",path).get_attribute(\"href\")\n",
    "    driver.get(url)\n",
    "\n",
    "    \n",
    "    \n",
    "\n",
    "def ListarNombres(path,clase):\n",
    "    WebDriverWait(driver, 8).until(EC.presence_of_element_located((By.XPATH,path)))\n",
    "    html_list=driver.find_element(By.CSS_SELECTOR,clase)\n",
    "    lista = html_list.find_elements(By.TAG_NAME,'div')\n",
    "    titulo=[]\n",
    "    for i in lista:\n",
    "        text = i.get_attribute('innerHTML')\n",
    "        soup = BeautifulSoup(text,'html.parser')\n",
    "        titulo.append(soup.findAll(\"h2\")[0].string)\n",
    "        #print(titulo)\n",
    "    return titulo\n",
    "\n",
    "\n",
    "\n",
    "def ListarPrecios(path,clase):\n",
    "    WebDriverWait(driver, 8).until(EC.presence_of_element_located((By.XPATH,path)))\n",
    "    html_list=driver.find_element(By.CSS_SELECTOR,clase)\n",
    "    lista = html_list.find_elements(By.TAG_NAME,'li')\n",
    "    \n",
    "    for i in lista:\n",
    "        text = i.get_attribute('innerHTML')\n",
    "        soup = BeautifulSoup(text,'html.parser')\n",
    "        precio = soup.select(\"span.price-tag-fraction\")[0].text\n",
    "        print(precio)\n",
    "def LeerJson(path):\n",
    "    \n",
    "    WebDriverWait(driver, 25).until(EC.presence_of_element_located((By.XPATH,path)))\n",
    "    Json_Jumbo=driver.find_element(\"xpath\",path).get_attribute(\"text\")\n",
    "    Json_Jumbo = json.loads(Json_Jumbo)\n",
    "    DatosProducto = Json_Jumbo['itemListElement'] # Se toma el Json anidado que contiene los datos del producto\n",
    "    return DatosProducto"
   ]
  },
  {
   "cell_type": "code",
   "execution_count": 3,
   "id": "cfdc8152",
   "metadata": {
    "ExecuteTime": {
     "end_time": "2022-09-28T15:51:19.422702Z",
     "start_time": "2022-09-28T15:51:19.417695Z"
    }
   },
   "outputs": [],
   "source": [
    "#Ruta de chorme compatible \n",
    "driver_path = \"C:\\\\Users\\\\danie\\\\OneDrive\\\\Documentos\\\\Notebooks\\\\chromedriver.exe\"\n",
    "## Opciones con las que inicia google chrome \n",
    "options = webdriver.ChromeOptions()\n",
    "options.add_argument('--ignore-certificate-errors')\n",
    "options.add_argument(\"--headless\")\n",
    "options.add_argument('--start-maximized')\n",
    "options.add_argument('--disable-extensions')\n",
    "\n",
    "s = Service(driver_path)#Se agrega el path como objeto para evitar errores \n"
   ]
  },
  {
   "cell_type": "markdown",
   "id": "f32168a5",
   "metadata": {},
   "source": [
    "# Main"
   ]
  },
  {
   "cell_type": "markdown",
   "id": "38acc50c",
   "metadata": {},
   "source": [
    "## Función buscar:\n",
    "- Recibe como parametro el input class del cuadro de busqueda de la pagina y el producto a buscar\n",
    "- Se antepone input antes de colocar el input class\n",
    "- Si el input class tiene espacios estos se remplazan por puntos"
   ]
  },
  {
   "cell_type": "markdown",
   "id": "e920443f",
   "metadata": {
    "ExecuteTime": {
     "end_time": "2022-09-08T15:48:46.892900Z",
     "start_time": "2022-09-08T15:48:46.878702Z"
    }
   },
   "source": [
    "## Funcion Click\n",
    "- Recibe como parametro el elemento clikeable anteponiendo el formato(div, footer, etc)\n"
   ]
  },
  {
   "cell_type": "markdown",
   "id": "8c6a4c58",
   "metadata": {
    "ExecuteTime": {
     "end_time": "2022-09-15T00:32:07.482292Z",
     "start_time": "2022-09-15T00:32:07.477618Z"
    }
   },
   "source": [
    "## Función ListarProductos\n",
    "- Esta funcion lista todos los productos de la busquema realizada \n"
   ]
  },
  {
   "cell_type": "markdown",
   "id": "943f86f2",
   "metadata": {},
   "source": [
    "## Función leer_json\n",
    "- Recibe como parametro el Xfullpath donde esta el script de los datos a consultar"
   ]
  },
  {
   "cell_type": "markdown",
   "id": "e4b015ad",
   "metadata": {},
   "source": [
    "### Programa usando funciones"
   ]
  },
  {
   "cell_type": "code",
   "execution_count": 4,
   "id": "a559fc1b",
   "metadata": {
    "ExecuteTime": {
     "end_time": "2022-09-28T15:52:05.739716Z",
     "start_time": "2022-09-28T15:51:31.331620Z"
    }
   },
   "outputs": [
    {
     "ename": "WebDriverException",
     "evalue": "Message: chrome not reachable\n  (Session info: chrome=105.0.5195.127)\nStacktrace:\nBacktrace:\n\tOrdinal0 [0x00EC78B3+2193587]\n\tOrdinal0 [0x00E60681+1771137]\n\tOrdinal0 [0x00D74070+802928]\n\tOrdinal0 [0x00D69AB2+760498]\n\tOrdinal0 [0x00D5CEAF+708271]\n\tOrdinal0 [0x00D61142+725314]\n\tOrdinal0 [0x00D655C9+742857]\n\tOrdinal0 [0x00D75500+808192]\n\tOrdinal0 [0x00DCD2C2+1168066]\n\tOrdinal0 [0x00DBD5C6+1103302]\n\tOrdinal0 [0x00D977E0+948192]\n\tOrdinal0 [0x00D986E6+952038]\n\tGetHandleVerifier [0x01170CB2+2738370]\n\tGetHandleVerifier [0x011621B8+2678216]\n\tGetHandleVerifier [0x00F517AA+512954]\n\tGetHandleVerifier [0x00F50856+509030]\n\tOrdinal0 [0x00E6743B+1799227]\n\tOrdinal0 [0x00E6BB68+1817448]\n\tOrdinal0 [0x00E6BC55+1817685]\n\tOrdinal0 [0x00E75230+1856048]\n\tBaseThreadInitThunk [0x76C66739+25]\n\tRtlGetFullPathName_UEx [0x77EA8FD2+1218]\n\tRtlGetFullPathName_UEx [0x77EA8F9D+1165]\n",
     "output_type": "error",
     "traceback": [
      "\u001b[1;31m---------------------------------------------------------------------------\u001b[0m",
      "\u001b[1;31mWebDriverException\u001b[0m                        Traceback (most recent call last)",
      "Cell \u001b[1;32mIn [4], line 30\u001b[0m\n\u001b[0;32m     26\u001b[0m     time\u001b[38;5;241m.\u001b[39msleep(\u001b[38;5;241m2\u001b[39m)\n\u001b[0;32m     28\u001b[0m \u001b[38;5;66;03m#Prueba enviar ciudad \u001b[39;00m\n\u001b[0;32m     29\u001b[0m     WebDriverWait(driver, \u001b[38;5;241m15\u001b[39m)\\\n\u001b[1;32m---> 30\u001b[0m         \u001b[38;5;241m.\u001b[39muntil(EC\u001b[38;5;241m.\u001b[39melement_to_be_clickable((By\u001b[38;5;241m.\u001b[39mCSS_SELECTOR,\u001b[38;5;124m'\u001b[39m\u001b[38;5;124mp.MuiTypography-root.exito-autocomplete-612.MuiTypography-body1.MuiTypography-colorTextSecondary\u001b[39m\u001b[38;5;124m'\u001b[39m)))\\\n\u001b[0;32m     31\u001b[0m         \u001b[38;5;241m.\u001b[39msend_keys(\u001b[38;5;124m'\u001b[39m\u001b[38;5;124mBoyaca\u001b[39m\u001b[38;5;124m'\u001b[39m)\n\u001b[0;32m     32\u001b[0m \u001b[38;5;66;03m#buscar  ciudad\u001b[39;00m\n\u001b[0;32m     33\u001b[0m  \u001b[38;5;66;03m#   input_class2 = 'p.MuiTypography-root.exito-autocomplete-6.MuiTypography-body1.MuiTypography-colorTextSecondary'\u001b[39;00m\n\u001b[0;32m     34\u001b[0m  \u001b[38;5;66;03m#   ciudad = 'tunja'\u001b[39;00m\n\u001b[1;32m   (...)\u001b[0m\n\u001b[0;32m     42\u001b[0m \u001b[38;5;66;03m#   Json_Total += LeerJson(path) #Esto deja un json con el que se trabajara los datos\u001b[39;00m\n\u001b[0;32m     43\u001b[0m \u001b[38;5;66;03m#    time.sleep(3)\u001b[39;00m\n\u001b[0;32m     46\u001b[0m driver\u001b[38;5;241m.\u001b[39mclose()\n",
      "File \u001b[1;32m~\\AppData\\Local\\Programs\\Python\\Python310\\lib\\site-packages\\selenium\\webdriver\\support\\wait.py:81\u001b[0m, in \u001b[0;36mWebDriverWait.until\u001b[1;34m(self, method, message)\u001b[0m\n\u001b[0;32m     79\u001b[0m \u001b[38;5;28;01mwhile\u001b[39;00m \u001b[38;5;28;01mTrue\u001b[39;00m:\n\u001b[0;32m     80\u001b[0m     \u001b[38;5;28;01mtry\u001b[39;00m:\n\u001b[1;32m---> 81\u001b[0m         value \u001b[38;5;241m=\u001b[39m \u001b[43mmethod\u001b[49m\u001b[43m(\u001b[49m\u001b[38;5;28;43mself\u001b[39;49m\u001b[38;5;241;43m.\u001b[39;49m\u001b[43m_driver\u001b[49m\u001b[43m)\u001b[49m\n\u001b[0;32m     82\u001b[0m         \u001b[38;5;28;01mif\u001b[39;00m value:\n\u001b[0;32m     83\u001b[0m             \u001b[38;5;28;01mreturn\u001b[39;00m value\n",
      "File \u001b[1;32m~\\AppData\\Local\\Programs\\Python\\Python310\\lib\\site-packages\\selenium\\webdriver\\support\\expected_conditions.py:312\u001b[0m, in \u001b[0;36melement_to_be_clickable.<locals>._predicate\u001b[1;34m(driver)\u001b[0m\n\u001b[0;32m    310\u001b[0m target \u001b[38;5;241m=\u001b[39m mark\n\u001b[0;32m    311\u001b[0m \u001b[38;5;28;01mif\u001b[39;00m \u001b[38;5;129;01mnot\u001b[39;00m \u001b[38;5;28misinstance\u001b[39m(target, WebElement):  \u001b[38;5;66;03m# if given locator instead of WebElement\u001b[39;00m\n\u001b[1;32m--> 312\u001b[0m     target \u001b[38;5;241m=\u001b[39m \u001b[43mdriver\u001b[49m\u001b[38;5;241;43m.\u001b[39;49m\u001b[43mfind_element\u001b[49m\u001b[43m(\u001b[49m\u001b[38;5;241;43m*\u001b[39;49m\u001b[43mtarget\u001b[49m\u001b[43m)\u001b[49m  \u001b[38;5;66;03m# grab element at locator\u001b[39;00m\n\u001b[0;32m    313\u001b[0m target \u001b[38;5;241m=\u001b[39m visibility_of(target)(driver)\n\u001b[0;32m    314\u001b[0m \u001b[38;5;28;01mif\u001b[39;00m target \u001b[38;5;129;01mand\u001b[39;00m target\u001b[38;5;241m.\u001b[39mis_enabled():\n",
      "File \u001b[1;32m~\\AppData\\Local\\Programs\\Python\\Python310\\lib\\site-packages\\selenium\\webdriver\\remote\\webdriver.py:855\u001b[0m, in \u001b[0;36mWebDriver.find_element\u001b[1;34m(self, by, value)\u001b[0m\n\u001b[0;32m    852\u001b[0m     by \u001b[38;5;241m=\u001b[39m By\u001b[38;5;241m.\u001b[39mCSS_SELECTOR\n\u001b[0;32m    853\u001b[0m     value \u001b[38;5;241m=\u001b[39m \u001b[38;5;124m'\u001b[39m\u001b[38;5;124m[name=\u001b[39m\u001b[38;5;124m\"\u001b[39m\u001b[38;5;132;01m%s\u001b[39;00m\u001b[38;5;124m\"\u001b[39m\u001b[38;5;124m]\u001b[39m\u001b[38;5;124m'\u001b[39m \u001b[38;5;241m%\u001b[39m value\n\u001b[1;32m--> 855\u001b[0m \u001b[38;5;28;01mreturn\u001b[39;00m \u001b[38;5;28;43mself\u001b[39;49m\u001b[38;5;241;43m.\u001b[39;49m\u001b[43mexecute\u001b[49m\u001b[43m(\u001b[49m\u001b[43mCommand\u001b[49m\u001b[38;5;241;43m.\u001b[39;49m\u001b[43mFIND_ELEMENT\u001b[49m\u001b[43m,\u001b[49m\u001b[43m \u001b[49m\u001b[43m{\u001b[49m\n\u001b[0;32m    856\u001b[0m \u001b[43m    \u001b[49m\u001b[38;5;124;43m'\u001b[39;49m\u001b[38;5;124;43musing\u001b[39;49m\u001b[38;5;124;43m'\u001b[39;49m\u001b[43m:\u001b[49m\u001b[43m \u001b[49m\u001b[43mby\u001b[49m\u001b[43m,\u001b[49m\n\u001b[0;32m    857\u001b[0m \u001b[43m    \u001b[49m\u001b[38;5;124;43m'\u001b[39;49m\u001b[38;5;124;43mvalue\u001b[39;49m\u001b[38;5;124;43m'\u001b[39;49m\u001b[43m:\u001b[49m\u001b[43m \u001b[49m\u001b[43mvalue\u001b[49m\u001b[43m}\u001b[49m\u001b[43m)\u001b[49m[\u001b[38;5;124m'\u001b[39m\u001b[38;5;124mvalue\u001b[39m\u001b[38;5;124m'\u001b[39m]\n",
      "File \u001b[1;32m~\\AppData\\Local\\Programs\\Python\\Python310\\lib\\site-packages\\selenium\\webdriver\\remote\\webdriver.py:428\u001b[0m, in \u001b[0;36mWebDriver.execute\u001b[1;34m(self, driver_command, params)\u001b[0m\n\u001b[0;32m    426\u001b[0m response \u001b[38;5;241m=\u001b[39m \u001b[38;5;28mself\u001b[39m\u001b[38;5;241m.\u001b[39mcommand_executor\u001b[38;5;241m.\u001b[39mexecute(driver_command, params)\n\u001b[0;32m    427\u001b[0m \u001b[38;5;28;01mif\u001b[39;00m response:\n\u001b[1;32m--> 428\u001b[0m     \u001b[38;5;28;43mself\u001b[39;49m\u001b[38;5;241;43m.\u001b[39;49m\u001b[43merror_handler\u001b[49m\u001b[38;5;241;43m.\u001b[39;49m\u001b[43mcheck_response\u001b[49m\u001b[43m(\u001b[49m\u001b[43mresponse\u001b[49m\u001b[43m)\u001b[49m\n\u001b[0;32m    429\u001b[0m     response[\u001b[38;5;124m'\u001b[39m\u001b[38;5;124mvalue\u001b[39m\u001b[38;5;124m'\u001b[39m] \u001b[38;5;241m=\u001b[39m \u001b[38;5;28mself\u001b[39m\u001b[38;5;241m.\u001b[39m_unwrap_value(\n\u001b[0;32m    430\u001b[0m         response\u001b[38;5;241m.\u001b[39mget(\u001b[38;5;124m'\u001b[39m\u001b[38;5;124mvalue\u001b[39m\u001b[38;5;124m'\u001b[39m, \u001b[38;5;28;01mNone\u001b[39;00m))\n\u001b[0;32m    431\u001b[0m     \u001b[38;5;28;01mreturn\u001b[39;00m response\n",
      "File \u001b[1;32m~\\AppData\\Local\\Programs\\Python\\Python310\\lib\\site-packages\\selenium\\webdriver\\remote\\errorhandler.py:243\u001b[0m, in \u001b[0;36mErrorHandler.check_response\u001b[1;34m(self, response)\u001b[0m\n\u001b[0;32m    241\u001b[0m         alert_text \u001b[38;5;241m=\u001b[39m value[\u001b[38;5;124m'\u001b[39m\u001b[38;5;124malert\u001b[39m\u001b[38;5;124m'\u001b[39m]\u001b[38;5;241m.\u001b[39mget(\u001b[38;5;124m'\u001b[39m\u001b[38;5;124mtext\u001b[39m\u001b[38;5;124m'\u001b[39m)\n\u001b[0;32m    242\u001b[0m     \u001b[38;5;28;01mraise\u001b[39;00m exception_class(message, screen, stacktrace, alert_text)  \u001b[38;5;66;03m# type: ignore[call-arg]  # mypy is not smart enough here\u001b[39;00m\n\u001b[1;32m--> 243\u001b[0m \u001b[38;5;28;01mraise\u001b[39;00m exception_class(message, screen, stacktrace)\n",
      "\u001b[1;31mWebDriverException\u001b[0m: Message: chrome not reachable\n  (Session info: chrome=105.0.5195.127)\nStacktrace:\nBacktrace:\n\tOrdinal0 [0x00EC78B3+2193587]\n\tOrdinal0 [0x00E60681+1771137]\n\tOrdinal0 [0x00D74070+802928]\n\tOrdinal0 [0x00D69AB2+760498]\n\tOrdinal0 [0x00D5CEAF+708271]\n\tOrdinal0 [0x00D61142+725314]\n\tOrdinal0 [0x00D655C9+742857]\n\tOrdinal0 [0x00D75500+808192]\n\tOrdinal0 [0x00DCD2C2+1168066]\n\tOrdinal0 [0x00DBD5C6+1103302]\n\tOrdinal0 [0x00D977E0+948192]\n\tOrdinal0 [0x00D986E6+952038]\n\tGetHandleVerifier [0x01170CB2+2738370]\n\tGetHandleVerifier [0x011621B8+2678216]\n\tGetHandleVerifier [0x00F517AA+512954]\n\tGetHandleVerifier [0x00F50856+509030]\n\tOrdinal0 [0x00E6743B+1799227]\n\tOrdinal0 [0x00E6BB68+1817448]\n\tOrdinal0 [0x00E6BC55+1817685]\n\tOrdinal0 [0x00E75230+1856048]\n\tBaseThreadInitThunk [0x76C66739+25]\n\tRtlGetFullPathName_UEx [0x77EA8FD2+1218]\n\tRtlGetFullPathName_UEx [0x77EA8F9D+1165]\n"
     ]
    }
   ],
   "source": [
    "\n",
    "driver = webdriver.Chrome(service=s)\n",
    "driver.maximize_window()\n",
    "\n",
    "\n",
    "\n",
    "driver.get(\"https://www.exito.com/\")\n",
    "\n",
    "ListaProducto=['arroz','aceite']\n",
    "Json_Total=[]\n",
    "time.sleep(2)\n",
    "for i in ListaProducto:\n",
    "    \n",
    "#Buscar producto\n",
    "    producto = i\n",
    "    input_class = 'input.vtex-styleguide-9-x-input.ma0.border-box.vtex-styleguide-9-x-hideDecorators.vtex-styleguide-9-x-noAppearance.br2.br-0.br--left.w-100.bn.outline-0.bg-base.c-on-base.b--muted-4.hover-b--muted-3.t-body.pl5'\n",
    "    buscar(input_class,producto)\n",
    "    time.sleep(2)\n",
    "#Click en buscar   \n",
    "    Element_clickeable = 'footer.vtex-search-2-x-tileListFooter'\n",
    "    Click(Element_clickeable)\n",
    "    time.sleep(2)      \n",
    "#Click en seleccionar ciudad \n",
    "                                  \n",
    "    Element_clickeable2 = 'button.exito-geolocation-3-x-orderOptionsButton.orderoption-compra-recoge'\n",
    "    Click(Element_clickeable2)\n",
    "    time.sleep(2)\n",
    "    \n",
    "#Prueba enviar ciudad \n",
    "    WebDriverWait(driver, 15)\\\n",
    "        .until(EC.element_to_be_clickable((By.CSS_SELECTOR,'p.MuiTypography-root.exito-autocomplete-612.MuiTypography-body1.MuiTypography-colorTextSecondary')))\\\n",
    "        .send_keys('Boyaca')\n",
    "#buscar  ciudad\n",
    " #   input_class2 = 'p.MuiTypography-root.exito-autocomplete-6.MuiTypography-body1.MuiTypography-colorTextSecondary'\n",
    " #   ciudad = 'tunja'\n",
    " #   buscar(input_class2,ciudad)\n",
    " #   time.sleep(2) \n",
    "\n",
    "\n",
    "    \n",
    "#Guardar en Json \n",
    "#    path= '/html/body/div[2]/div/div[1]/div/div[2]/div/div[8]/section/div[2]/div/div[3]/div/div[2]/div/div/div[6]/div/div/script'       \n",
    "#   Json_Total += LeerJson(path) #Esto deja un json con el que se trabajara los datos\n",
    "#    time.sleep(3)\n",
    "\n",
    "\n",
    "driver.close()\n",
    "print(\"Fin programa con funciones\")"
   ]
  },
  {
   "cell_type": "markdown",
   "id": "3985ead6",
   "metadata": {
    "heading_collapsed": true
   },
   "source": [
    "### PRUEBA SIN FUNCIONES "
   ]
  },
  {
   "cell_type": "code",
   "execution_count": 318,
   "id": "8a5e0a55",
   "metadata": {
    "hidden": true
   },
   "outputs": [
    {
     "name": "stdout",
     "output_type": "stream",
     "text": [
      "fin\n"
     ]
    }
   ],
   "source": [
    "############## PRUEBA SIN FUNCIONES ##############################################3\n",
    "\n",
    "driver = webdriver.Chrome(service=s)\n",
    "driver.maximize_window()    \n",
    "driver.get(\"https://www.exito.com/\")\n",
    "\n",
    "ListaProducto=['arroz']\n",
    "Json_Total=[]\n",
    "\n",
    "for i in ListaProducto:\n",
    "     \n",
    "#Buscar producto\n",
    "    producto = i\n",
    "    input_class = 'input.vtex-styleguide-9-x-input.ma0.border-box.vtex-styleguide-9-x-hideDecorators.vtex-styleguide-9-x-noAppearance.br2.br-0.br--left.w-100.bn.outline-0.bg-base.c-on-base.b--muted-4.hover-b--muted-3.t-body.pl5'\n",
    "    elemento = WebDriverWait(driver, 10).until(EC.element_to_be_clickable((By.CSS_SELECTOR,input_class)))\n",
    "    elemento.send_keys(producto)\n",
    "#Click en buscar   \n",
    "    Element_clickeable = 'footer.vtex-search-2-x-tileListFooter'   \n",
    "    WebDriverWait(driver, 5)\\\n",
    "    .until(EC.element_to_be_clickable((By.CSS_SELECTOR,Element_clickeable))).click() \n",
    "#Click en cerrar ventana emergente   \n",
    "    Element_clickeable2 = 'span.exito-geolocation-3-x-cursorPointer'\n",
    "    WebDriverWait(driver, 10)\\\n",
    "        .until(EC.element_to_be_clickable((By.CSS_SELECTOR,Element_clickeable2))).click() \n",
    "#Guardar en Json \n",
    "          \n",
    "    path= '/html/body/div[2]/div/div[1]/div/div[2]/div/div[8]/section/div[2]/div/div[3]/div/div[2]/div/div/div[6]/div/div/script'       \n",
    "    WebDriverWait(driver, 15).until(EC.presence_of_element_located((By.XPATH,path)))\n",
    "    Text_Json=driver.find_element(\"xpath\",path).get_attribute(\"text\")\n",
    "    Json_Script = json.loads(Text_Json)\n",
    "    DatosProducto = Json_Script['itemListElement'] # Se toma el Json anidado que contiene los datos del producto\n",
    "\n",
    "    Json_Total += DatosProducto #Esto deja un json con el que se trabajara los datos\n",
    "\n",
    "\n",
    "print('fin')\n",
    "    \n"
   ]
  },
  {
   "cell_type": "markdown",
   "id": "751a6bb7",
   "metadata": {},
   "source": [
    "# Procesamiento y limpieza de datos"
   ]
  },
  {
   "cell_type": "code",
   "execution_count": 10,
   "id": "8da89572",
   "metadata": {
    "ExecuteTime": {
     "end_time": "2022-09-27T20:19:07.395882Z",
     "start_time": "2022-09-27T20:19:07.365965Z"
    }
   },
   "outputs": [],
   "source": [
    "#Se obtienen los datos del segundo nivel de profundidad del json y se pasan a un dataframe\n",
    "Producto_1 = pd.json_normalize(Json_Total) \n",
    "#Se accede al 3 nivel de produndidad del json \n",
    "JsonAnidado=[] #Se crea una lista vacia para llenarla con el for\n",
    "\n",
    "for i in Producto_1['item.offers.offers']:\n",
    "    JsonAnidado +=i \n",
    "    \n",
    "#Se normaliza el nivel 3 de profundidad del json    \n",
    "Producto_2= pd.json_normalize(JsonAnidado) # Hacemos join de los 2 dataframe creados\n",
    "Productos_T = pd.concat([Producto_1, Producto_2], axis = 1) "
   ]
  },
  {
   "cell_type": "code",
   "execution_count": 11,
   "id": "ac17b4ac",
   "metadata": {
    "ExecuteTime": {
     "end_time": "2022-09-27T20:19:09.243550Z",
     "start_time": "2022-09-27T20:19:09.225867Z"
    }
   },
   "outputs": [],
   "source": [
    "#Seleccionamos las columnas que nos interesan\n",
    "Productos_T = Productos_T[['sku','item.name','item.brand.name','item.description','priceCurrency','price','priceValidUntil','item.@id','item.image','seller.name']]\n",
    "#Renombramos las columnas \n",
    "Productos_T.columns = ['Codigo_Pro','Nombre', 'Marca', 'Descripcion', 'Moneda', 'Precio','Precio_Valido_Hasta','Url_producto', 'Url_Imagen','Almacen']\n"
   ]
  },
  {
   "cell_type": "code",
   "execution_count": 12,
   "id": "4be5e51c",
   "metadata": {
    "ExecuteTime": {
     "end_time": "2022-09-27T20:19:10.875976Z",
     "start_time": "2022-09-27T20:19:10.860778Z"
    }
   },
   "outputs": [],
   "source": [
    "#Se pasa a json\n",
    "Productos_T.to_json('file.json', orient = 'split', compression = 'infer', index = 'true') \n"
   ]
  },
  {
   "cell_type": "code",
   "execution_count": 13,
   "id": "f0fe1a02",
   "metadata": {
    "ExecuteTime": {
     "end_time": "2022-09-27T20:19:14.295836Z",
     "start_time": "2022-09-27T20:19:14.265991Z"
    }
   },
   "outputs": [
    {
     "data": {
      "text/html": [
       "<div>\n",
       "<style scoped>\n",
       "    .dataframe tbody tr th:only-of-type {\n",
       "        vertical-align: middle;\n",
       "    }\n",
       "\n",
       "    .dataframe tbody tr th {\n",
       "        vertical-align: top;\n",
       "    }\n",
       "\n",
       "    .dataframe thead th {\n",
       "        text-align: right;\n",
       "    }\n",
       "</style>\n",
       "<table border=\"1\" class=\"dataframe\">\n",
       "  <thead>\n",
       "    <tr style=\"text-align: right;\">\n",
       "      <th></th>\n",
       "      <th>Codigo_Pro</th>\n",
       "      <th>Nombre</th>\n",
       "      <th>Marca</th>\n",
       "      <th>Descripcion</th>\n",
       "      <th>Moneda</th>\n",
       "      <th>Precio</th>\n",
       "      <th>Precio_Valido_Hasta</th>\n",
       "      <th>Url_producto</th>\n",
       "      <th>Url_Imagen</th>\n",
       "      <th>Almacen</th>\n",
       "    </tr>\n",
       "  </thead>\n",
       "  <tbody>\n",
       "    <tr>\n",
       "      <th>0</th>\n",
       "      <td>3202104</td>\n",
       "      <td>Of 3 Atun Aceite Gts Arroz Cas EL FORTIN 420 gr</td>\n",
       "      <td>EL FORTIN</td>\n",
       "      <td></td>\n",
       "      <td>COP</td>\n",
       "      <td>15950</td>\n",
       "      <td>2023-09-27T20:17:24Z</td>\n",
       "      <td>https://www.exito.com/of-3-atun-aceite-gts-arr...</td>\n",
       "      <td>https://exitocol.vtexassets.com/arquivos/ids/1...</td>\n",
       "      <td>exito</td>\n",
       "    </tr>\n",
       "    <tr>\n",
       "      <th>1</th>\n",
       "      <td>916486</td>\n",
       "      <td>VINAGRE DE ARROZ MIZKAN 355 ml</td>\n",
       "      <td>MIZKAN</td>\n",
       "      <td>Vinagre De Arroz Mitsukan   \\n     \\n  \\n   \\n...</td>\n",
       "      <td>COP</td>\n",
       "      <td>26250</td>\n",
       "      <td>2023-09-27T20:18:51Z</td>\n",
       "      <td>https://www.exito.com/vinagre-de-arroz-mitsuka...</td>\n",
       "      <td>https://exitocol.vtexassets.com/arquivos/ids/1...</td>\n",
       "      <td>exito</td>\n",
       "    </tr>\n",
       "    <tr>\n",
       "      <th>2</th>\n",
       "      <td>3015204</td>\n",
       "      <td>Tosta Arroz Espina &amp;amp;Aceit Oli RICE UP 50 gr</td>\n",
       "      <td>RICE UP</td>\n",
       "      <td></td>\n",
       "      <td>COP</td>\n",
       "      <td>4100</td>\n",
       "      <td>2023-09-27T20:18:51Z</td>\n",
       "      <td>https://www.exito.com/tosta-arroz-espina-aceit...</td>\n",
       "      <td>https://exitocol.vtexassets.com/arquivos/ids/1...</td>\n",
       "      <td>exito</td>\n",
       "    </tr>\n",
       "    <tr>\n",
       "      <th>3</th>\n",
       "      <td>862929</td>\n",
       "      <td>Arroz Blanco SONORA 3000 gr</td>\n",
       "      <td>SONORA</td>\n",
       "      <td></td>\n",
       "      <td>COP</td>\n",
       "      <td>11280</td>\n",
       "      <td>2023-09-27T20:16:15Z</td>\n",
       "      <td>https://www.exito.com/arroz-sonora-x-3000-gr-6...</td>\n",
       "      <td>https://exitocol.vtexassets.com/arquivos/ids/1...</td>\n",
       "      <td>exito</td>\n",
       "    </tr>\n",
       "    <tr>\n",
       "      <th>4</th>\n",
       "      <td>765177</td>\n",
       "      <td>Arroz Blanco EXITO MARCA PROPIA 3000 gr</td>\n",
       "      <td>EXITO MARCA PROPIA</td>\n",
       "      <td></td>\n",
       "      <td>COP</td>\n",
       "      <td>10640</td>\n",
       "      <td>2023-09-27T20:14:18Z</td>\n",
       "      <td>https://www.exito.com/arroz-blanco-exito-3000-...</td>\n",
       "      <td>https://exitocol.vtexassets.com/arquivos/ids/1...</td>\n",
       "      <td>exito</td>\n",
       "    </tr>\n",
       "    <tr>\n",
       "      <th>5</th>\n",
       "      <td>130407</td>\n",
       "      <td>Arroz  Vitamor 3Kg DIANA 3000 gr</td>\n",
       "      <td>DIANA</td>\n",
       "      <td>&amp;lt;div class=&amp;quot;pdpProductInfo&amp;quot;&amp;gt;  ...</td>\n",
       "      <td>COP</td>\n",
       "      <td>12000</td>\n",
       "      <td>2023-09-27T20:16:59Z</td>\n",
       "      <td>https://www.exito.com/arroz-blanco-bolsa-x-300...</td>\n",
       "      <td>https://exitocol.vtexassets.com/arquivos/ids/1...</td>\n",
       "      <td>exito</td>\n",
       "    </tr>\n",
       "    <tr>\n",
       "      <th>6</th>\n",
       "      <td>814670</td>\n",
       "      <td>Arroz Vitamor DIANA 5000 gr</td>\n",
       "      <td>DIANA</td>\n",
       "      <td></td>\n",
       "      <td>COP</td>\n",
       "      <td>19950</td>\n",
       "      <td>2023-09-27T20:16:59Z</td>\n",
       "      <td>https://www.exito.com/arroz-diana-5000-gr-4986...</td>\n",
       "      <td>https://exitocol.vtexassets.com/arquivos/ids/1...</td>\n",
       "      <td>exito</td>\n",
       "    </tr>\n",
       "    <tr>\n",
       "      <th>7</th>\n",
       "      <td>256676</td>\n",
       "      <td>Arroz Blanco Arroba DIANA 12500 gr</td>\n",
       "      <td>DIANA</td>\n",
       "      <td>&amp;lt;div class=&amp;quot;pdpProductInfo&amp;quot;&amp;gt;  ...</td>\n",
       "      <td>COP</td>\n",
       "      <td>48070</td>\n",
       "      <td>2023-09-27T20:16:45Z</td>\n",
       "      <td>https://www.exito.com/arroz-blanco-arroba-1250...</td>\n",
       "      <td>https://exitocol.vtexassets.com/arquivos/ids/1...</td>\n",
       "      <td>exito</td>\n",
       "    </tr>\n",
       "    <tr>\n",
       "      <th>8</th>\n",
       "      <td>694991</td>\n",
       "      <td>Arroz Blanco Fortif 3Kg ROA 3000 gr</td>\n",
       "      <td>ROA</td>\n",
       "      <td>&amp;lt;div class=&amp;quot;pdpProductInfo&amp;quot;&amp;gt;  ...</td>\n",
       "      <td>COP</td>\n",
       "      <td>11700</td>\n",
       "      <td>2023-09-27T20:16:45Z</td>\n",
       "      <td>https://www.exito.com/arroz-blanco-fortificado...</td>\n",
       "      <td>https://exitocol.vtexassets.com/arquivos/ids/1...</td>\n",
       "      <td>exito</td>\n",
       "    </tr>\n",
       "    <tr>\n",
       "      <th>9</th>\n",
       "      <td>445117</td>\n",
       "      <td>Arroz Blanco Diana X 500 Gr DIANA 500 gr</td>\n",
       "      <td>DIANA</td>\n",
       "      <td></td>\n",
       "      <td>COP</td>\n",
       "      <td>1930</td>\n",
       "      <td>2023-09-27T20:16:59Z</td>\n",
       "      <td>https://www.exito.com/arroz-diana-500-gr-479512/p</td>\n",
       "      <td>https://exitocol.vtexassets.com/arquivos/ids/1...</td>\n",
       "      <td>exito</td>\n",
       "    </tr>\n",
       "    <tr>\n",
       "      <th>10</th>\n",
       "      <td>552155</td>\n",
       "      <td>Arroz 1K DIANA 1000 gr</td>\n",
       "      <td>DIANA</td>\n",
       "      <td></td>\n",
       "      <td>COP</td>\n",
       "      <td>4570</td>\n",
       "      <td>2023-09-27T20:16:59Z</td>\n",
       "      <td>https://www.exito.com/arroz-diana-1000-gr-6243...</td>\n",
       "      <td>https://exitocol.vtexassets.com/arquivos/ids/1...</td>\n",
       "      <td>exito</td>\n",
       "    </tr>\n",
       "    <tr>\n",
       "      <th>11</th>\n",
       "      <td>669010</td>\n",
       "      <td>Arroz Blanco Arroba EXITO MARCA PROPIA 12500 gr</td>\n",
       "      <td>EXITO MARCA PROPIA</td>\n",
       "      <td></td>\n",
       "      <td>COP</td>\n",
       "      <td>40500</td>\n",
       "      <td>2023-09-27T20:14:37Z</td>\n",
       "      <td>https://www.exito.com/arroz-blanco-arroba-exit...</td>\n",
       "      <td>https://exitocol.vtexassets.com/arquivos/ids/1...</td>\n",
       "      <td>exito</td>\n",
       "    </tr>\n",
       "    <tr>\n",
       "      <th>12</th>\n",
       "      <td>587016</td>\n",
       "      <td>Arroz Premium DIANA 2500 gr</td>\n",
       "      <td>DIANA</td>\n",
       "      <td>&amp;lt;div class=&amp;quot;pdpProductInfo&amp;quot;&amp;gt;  ...</td>\n",
       "      <td>COP</td>\n",
       "      <td>15250</td>\n",
       "      <td>2023-09-27T20:16:59Z</td>\n",
       "      <td>https://www.exito.com/arroz-premium-2500-gr-21...</td>\n",
       "      <td>https://exitocol.vtexassets.com/arquivos/ids/1...</td>\n",
       "      <td>exito</td>\n",
       "    </tr>\n",
       "    <tr>\n",
       "      <th>13</th>\n",
       "      <td>722262</td>\n",
       "      <td>Arroz Blanco X5000G ROA 5000 gr</td>\n",
       "      <td>ROA</td>\n",
       "      <td>&amp;lt;div class=&amp;quot;pdpProductInfo&amp;quot;&amp;gt;  ...</td>\n",
       "      <td>COP</td>\n",
       "      <td>19500</td>\n",
       "      <td>2023-09-27T20:16:59Z</td>\n",
       "      <td>https://www.exito.com/arroz-fortificado-roa-bo...</td>\n",
       "      <td>https://exitocol.vtexassets.com/arquivos/ids/1...</td>\n",
       "      <td>exito</td>\n",
       "    </tr>\n",
       "    <tr>\n",
       "      <th>14</th>\n",
       "      <td>730954</td>\n",
       "      <td>Arroz Premium DIANA 1000 gr</td>\n",
       "      <td>DIANA</td>\n",
       "      <td></td>\n",
       "      <td>COP</td>\n",
       "      <td>5950</td>\n",
       "      <td>2023-09-27T20:14:59Z</td>\n",
       "      <td>https://www.exito.com/arroz-premium-1000-gr-13...</td>\n",
       "      <td>https://exitocol.vtexassets.com/arquivos/ids/1...</td>\n",
       "      <td>exito</td>\n",
       "    </tr>\n",
       "    <tr>\n",
       "      <th>15</th>\n",
       "      <td>923594</td>\n",
       "      <td>Arroz Premium CASTELLANO 2500 gr</td>\n",
       "      <td>CASTELLANO</td>\n",
       "      <td>&amp;lt;div class=&amp;quot;pdpProductInfo&amp;quot;&amp;gt;  ...</td>\n",
       "      <td>COP</td>\n",
       "      <td>22500</td>\n",
       "      <td>2023-09-27T20:16:59Z</td>\n",
       "      <td>https://www.exito.com/arroz-blanco-natural-bol...</td>\n",
       "      <td>https://exitocol.vtexassets.com/arquivos/ids/1...</td>\n",
       "      <td>exito</td>\n",
       "    </tr>\n",
       "    <tr>\n",
       "      <th>16</th>\n",
       "      <td>23194</td>\n",
       "      <td>Arroz Blanco EXITO MARCA PROPIA 500 gr</td>\n",
       "      <td>EXITO MARCA PROPIA</td>\n",
       "      <td></td>\n",
       "      <td>COP</td>\n",
       "      <td>2060</td>\n",
       "      <td>2023-09-27T20:15:21Z</td>\n",
       "      <td>https://www.exito.com/arroz-especial-exito-x-5...</td>\n",
       "      <td>https://exitocol.vtexassets.com/arquivos/ids/1...</td>\n",
       "      <td>exito</td>\n",
       "    </tr>\n",
       "    <tr>\n",
       "      <th>17</th>\n",
       "      <td>551004</td>\n",
       "      <td>Arroz Parborizado DONA PEPA 1000 gr</td>\n",
       "      <td>DONA PEPA</td>\n",
       "      <td>&amp;lt;div class=&amp;quot;pdpProductInfo&amp;quot;&amp;gt;  ...</td>\n",
       "      <td>COP</td>\n",
       "      <td>3945</td>\n",
       "      <td>2023-09-27T20:16:50Z</td>\n",
       "      <td>https://www.exito.com/arroz-parbolizado-x-1kg-...</td>\n",
       "      <td>https://exitocol.vtexassets.com/arquivos/ids/1...</td>\n",
       "      <td>exito</td>\n",
       "    </tr>\n",
       "    <tr>\n",
       "      <th>18</th>\n",
       "      <td>715215</td>\n",
       "      <td>Arroz Premium DIANA 4000 gr</td>\n",
       "      <td>DIANA</td>\n",
       "      <td>&amp;lt;div class=&amp;quot;pdpProductInfo&amp;quot;&amp;gt;  ...</td>\n",
       "      <td>COP</td>\n",
       "      <td>22450</td>\n",
       "      <td>2023-09-27T20:16:59Z</td>\n",
       "      <td>https://www.exito.com/arroz-diana-premium-4-kg...</td>\n",
       "      <td>https://exitocol.vtexassets.com/arquivos/ids/1...</td>\n",
       "      <td>exito</td>\n",
       "    </tr>\n",
       "    <tr>\n",
       "      <th>19</th>\n",
       "      <td>10316</td>\n",
       "      <td>Arroz Blanco Arroba ROA 12500 gr</td>\n",
       "      <td>ROA</td>\n",
       "      <td>&amp;lt;div class=&amp;quot;pdpProductInfo&amp;quot;&amp;gt;  ...</td>\n",
       "      <td>COP</td>\n",
       "      <td>49750</td>\n",
       "      <td>2023-09-27T20:16:59Z</td>\n",
       "      <td>https://www.exito.com/arroz-blanco-arroba-1250...</td>\n",
       "      <td>https://exitocol.vtexassets.com/arquivos/ids/1...</td>\n",
       "      <td>exito</td>\n",
       "    </tr>\n",
       "  </tbody>\n",
       "</table>\n",
       "</div>"
      ],
      "text/plain": [
       "   Codigo_Pro                                           Nombre  \\\n",
       "0     3202104  Of 3 Atun Aceite Gts Arroz Cas EL FORTIN 420 gr   \n",
       "1      916486                   VINAGRE DE ARROZ MIZKAN 355 ml   \n",
       "2     3015204  Tosta Arroz Espina &amp;Aceit Oli RICE UP 50 gr   \n",
       "3      862929                      Arroz Blanco SONORA 3000 gr   \n",
       "4      765177          Arroz Blanco EXITO MARCA PROPIA 3000 gr   \n",
       "5      130407                 Arroz  Vitamor 3Kg DIANA 3000 gr   \n",
       "6      814670                      Arroz Vitamor DIANA 5000 gr   \n",
       "7      256676               Arroz Blanco Arroba DIANA 12500 gr   \n",
       "8      694991              Arroz Blanco Fortif 3Kg ROA 3000 gr   \n",
       "9      445117         Arroz Blanco Diana X 500 Gr DIANA 500 gr   \n",
       "10     552155                           Arroz 1K DIANA 1000 gr   \n",
       "11     669010  Arroz Blanco Arroba EXITO MARCA PROPIA 12500 gr   \n",
       "12     587016                      Arroz Premium DIANA 2500 gr   \n",
       "13     722262                  Arroz Blanco X5000G ROA 5000 gr   \n",
       "14     730954                      Arroz Premium DIANA 1000 gr   \n",
       "15     923594                 Arroz Premium CASTELLANO 2500 gr   \n",
       "16      23194           Arroz Blanco EXITO MARCA PROPIA 500 gr   \n",
       "17     551004              Arroz Parborizado DONA PEPA 1000 gr   \n",
       "18     715215                      Arroz Premium DIANA 4000 gr   \n",
       "19      10316                 Arroz Blanco Arroba ROA 12500 gr   \n",
       "\n",
       "                 Marca                                        Descripcion  \\\n",
       "0            EL FORTIN                                                      \n",
       "1               MIZKAN  Vinagre De Arroz Mitsukan   \\n     \\n  \\n   \\n...   \n",
       "2              RICE UP                                                      \n",
       "3               SONORA                                                      \n",
       "4   EXITO MARCA PROPIA                                                      \n",
       "5                DIANA  &lt;div class=&quot;pdpProductInfo&quot;&gt;  ...   \n",
       "6                DIANA                                                      \n",
       "7                DIANA  &lt;div class=&quot;pdpProductInfo&quot;&gt;  ...   \n",
       "8                  ROA  &lt;div class=&quot;pdpProductInfo&quot;&gt;  ...   \n",
       "9                DIANA                                                      \n",
       "10               DIANA                                                      \n",
       "11  EXITO MARCA PROPIA                                                      \n",
       "12               DIANA  &lt;div class=&quot;pdpProductInfo&quot;&gt;  ...   \n",
       "13                 ROA  &lt;div class=&quot;pdpProductInfo&quot;&gt;  ...   \n",
       "14               DIANA                                                      \n",
       "15          CASTELLANO  &lt;div class=&quot;pdpProductInfo&quot;&gt;  ...   \n",
       "16  EXITO MARCA PROPIA                                                      \n",
       "17           DONA PEPA  &lt;div class=&quot;pdpProductInfo&quot;&gt;  ...   \n",
       "18               DIANA  &lt;div class=&quot;pdpProductInfo&quot;&gt;  ...   \n",
       "19                 ROA  &lt;div class=&quot;pdpProductInfo&quot;&gt;  ...   \n",
       "\n",
       "   Moneda  Precio   Precio_Valido_Hasta  \\\n",
       "0     COP   15950  2023-09-27T20:17:24Z   \n",
       "1     COP   26250  2023-09-27T20:18:51Z   \n",
       "2     COP    4100  2023-09-27T20:18:51Z   \n",
       "3     COP   11280  2023-09-27T20:16:15Z   \n",
       "4     COP   10640  2023-09-27T20:14:18Z   \n",
       "5     COP   12000  2023-09-27T20:16:59Z   \n",
       "6     COP   19950  2023-09-27T20:16:59Z   \n",
       "7     COP   48070  2023-09-27T20:16:45Z   \n",
       "8     COP   11700  2023-09-27T20:16:45Z   \n",
       "9     COP    1930  2023-09-27T20:16:59Z   \n",
       "10    COP    4570  2023-09-27T20:16:59Z   \n",
       "11    COP   40500  2023-09-27T20:14:37Z   \n",
       "12    COP   15250  2023-09-27T20:16:59Z   \n",
       "13    COP   19500  2023-09-27T20:16:59Z   \n",
       "14    COP    5950  2023-09-27T20:14:59Z   \n",
       "15    COP   22500  2023-09-27T20:16:59Z   \n",
       "16    COP    2060  2023-09-27T20:15:21Z   \n",
       "17    COP    3945  2023-09-27T20:16:50Z   \n",
       "18    COP   22450  2023-09-27T20:16:59Z   \n",
       "19    COP   49750  2023-09-27T20:16:59Z   \n",
       "\n",
       "                                         Url_producto  \\\n",
       "0   https://www.exito.com/of-3-atun-aceite-gts-arr...   \n",
       "1   https://www.exito.com/vinagre-de-arroz-mitsuka...   \n",
       "2   https://www.exito.com/tosta-arroz-espina-aceit...   \n",
       "3   https://www.exito.com/arroz-sonora-x-3000-gr-6...   \n",
       "4   https://www.exito.com/arroz-blanco-exito-3000-...   \n",
       "5   https://www.exito.com/arroz-blanco-bolsa-x-300...   \n",
       "6   https://www.exito.com/arroz-diana-5000-gr-4986...   \n",
       "7   https://www.exito.com/arroz-blanco-arroba-1250...   \n",
       "8   https://www.exito.com/arroz-blanco-fortificado...   \n",
       "9   https://www.exito.com/arroz-diana-500-gr-479512/p   \n",
       "10  https://www.exito.com/arroz-diana-1000-gr-6243...   \n",
       "11  https://www.exito.com/arroz-blanco-arroba-exit...   \n",
       "12  https://www.exito.com/arroz-premium-2500-gr-21...   \n",
       "13  https://www.exito.com/arroz-fortificado-roa-bo...   \n",
       "14  https://www.exito.com/arroz-premium-1000-gr-13...   \n",
       "15  https://www.exito.com/arroz-blanco-natural-bol...   \n",
       "16  https://www.exito.com/arroz-especial-exito-x-5...   \n",
       "17  https://www.exito.com/arroz-parbolizado-x-1kg-...   \n",
       "18  https://www.exito.com/arroz-diana-premium-4-kg...   \n",
       "19  https://www.exito.com/arroz-blanco-arroba-1250...   \n",
       "\n",
       "                                           Url_Imagen Almacen  \n",
       "0   https://exitocol.vtexassets.com/arquivos/ids/1...   exito  \n",
       "1   https://exitocol.vtexassets.com/arquivos/ids/1...   exito  \n",
       "2   https://exitocol.vtexassets.com/arquivos/ids/1...   exito  \n",
       "3   https://exitocol.vtexassets.com/arquivos/ids/1...   exito  \n",
       "4   https://exitocol.vtexassets.com/arquivos/ids/1...   exito  \n",
       "5   https://exitocol.vtexassets.com/arquivos/ids/1...   exito  \n",
       "6   https://exitocol.vtexassets.com/arquivos/ids/1...   exito  \n",
       "7   https://exitocol.vtexassets.com/arquivos/ids/1...   exito  \n",
       "8   https://exitocol.vtexassets.com/arquivos/ids/1...   exito  \n",
       "9   https://exitocol.vtexassets.com/arquivos/ids/1...   exito  \n",
       "10  https://exitocol.vtexassets.com/arquivos/ids/1...   exito  \n",
       "11  https://exitocol.vtexassets.com/arquivos/ids/1...   exito  \n",
       "12  https://exitocol.vtexassets.com/arquivos/ids/1...   exito  \n",
       "13  https://exitocol.vtexassets.com/arquivos/ids/1...   exito  \n",
       "14  https://exitocol.vtexassets.com/arquivos/ids/1...   exito  \n",
       "15  https://exitocol.vtexassets.com/arquivos/ids/1...   exito  \n",
       "16  https://exitocol.vtexassets.com/arquivos/ids/1...   exito  \n",
       "17  https://exitocol.vtexassets.com/arquivos/ids/1...   exito  \n",
       "18  https://exitocol.vtexassets.com/arquivos/ids/1...   exito  \n",
       "19  https://exitocol.vtexassets.com/arquivos/ids/1...   exito  "
      ]
     },
     "execution_count": 13,
     "metadata": {},
     "output_type": "execute_result"
    }
   ],
   "source": [
    "Productos_T"
   ]
  },
  {
   "cell_type": "code",
   "execution_count": 3,
   "id": "352dff60",
   "metadata": {
    "ExecuteTime": {
     "end_time": "2022-09-29T02:39:13.591483Z",
     "start_time": "2022-09-29T02:39:13.575477Z"
    }
   },
   "outputs": [
    {
     "data": {
      "text/plain": [
       "datetime.date(2022, 9, 28)"
      ]
     },
     "execution_count": 3,
     "metadata": {},
     "output_type": "execute_result"
    }
   ],
   "source": [
    "today = date.today()\n",
    "today"
   ]
  },
  {
   "cell_type": "code",
   "execution_count": 6,
   "id": "2017df8f",
   "metadata": {
    "ExecuteTime": {
     "end_time": "2022-09-29T02:40:31.583744Z",
     "start_time": "2022-09-29T02:40:31.568750Z"
    }
   },
   "outputs": [
    {
     "ename": "SyntaxError",
     "evalue": "unterminated string literal (detected at line 2) (1384170172.py, line 2)",
     "output_type": "error",
     "traceback": [
      "\u001b[1;36m  Cell \u001b[1;32mIn [6], line 2\u001b[1;36m\u001b[0m\n\u001b[1;33m    format = now.strftime('Día :%d, Mes: %m, Año: %Y)\u001b[0m\n\u001b[1;37m                          ^\u001b[0m\n\u001b[1;31mSyntaxError\u001b[0m\u001b[1;31m:\u001b[0m unterminated string literal (detected at line 2)\n"
     ]
    }
   ],
   "source": [
    "now = date.today()\n",
    "format = now.strftime('Día :%d, Mes: %m, Año: %Y)\n",
    "print(format)"
   ]
  },
  {
   "cell_type": "code",
   "execution_count": null,
   "id": "9a9932ae",
   "metadata": {},
   "outputs": [],
   "source": []
  }
 ],
 "metadata": {
  "hide_input": false,
  "kernelspec": {
   "display_name": "Python 3",
   "language": "python",
   "name": "python3"
  },
  "language_info": {
   "codemirror_mode": {
    "name": "ipython",
    "version": 3
   },
   "file_extension": ".py",
   "mimetype": "text/x-python",
   "name": "python",
   "nbconvert_exporter": "python",
   "pygments_lexer": "ipython3",
   "version": "3.10.7 (tags/v3.10.7:6cc6b13, Sep  5 2022, 14:08:36) [MSC v.1933 64 bit (AMD64)]"
  },
  "toc": {
   "base_numbering": 1,
   "nav_menu": {},
   "number_sections": true,
   "sideBar": true,
   "skip_h1_title": false,
   "title_cell": "Table of Contents",
   "title_sidebar": "Contents",
   "toc_cell": false,
   "toc_position": {},
   "toc_section_display": true,
   "toc_window_display": false
  },
  "varInspector": {
   "cols": {
    "lenName": 16,
    "lenType": 16,
    "lenVar": 40
   },
   "kernels_config": {
    "python": {
     "delete_cmd_postfix": "",
     "delete_cmd_prefix": "del ",
     "library": "var_list.py",
     "varRefreshCmd": "print(var_dic_list())"
    },
    "r": {
     "delete_cmd_postfix": ") ",
     "delete_cmd_prefix": "rm(",
     "library": "var_list.r",
     "varRefreshCmd": "cat(var_dic_list()) "
    }
   },
   "position": {
    "height": "318.85px",
    "left": "813px",
    "right": "20px",
    "top": "153px",
    "width": "580px"
   },
   "types_to_exclude": [
    "module",
    "function",
    "builtin_function_or_method",
    "instance",
    "_Feature"
   ],
   "window_display": false
  },
  "vscode": {
   "interpreter": {
    "hash": "0f2f6c680cf484319d387fabac80ca4ff4fc33965036e02100b3fe02600f1423"
   }
  }
 },
 "nbformat": 4,
 "nbformat_minor": 5
}
