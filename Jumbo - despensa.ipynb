{
 "cells": [
  {
   "cell_type": "code",
   "execution_count": 1,
   "id": "7c25d6ea",
   "metadata": {
    "ExecuteTime": {
     "end_time": "2022-10-03T15:58:55.084328Z",
     "start_time": "2022-10-03T15:58:54.472035Z"
    }
   },
   "outputs": [],
   "source": [
    "#librerias\n",
    "from selenium import webdriver\n",
    "from selenium.webdriver.support.ui import WebDriverWait\n",
    "from selenium.webdriver.support import expected_conditions as EC\n",
    "from selenium.webdriver.common.by import By\n",
    "from bs4 import BeautifulSoup\n",
    "import time\n",
    "from selenium.webdriver.chrome.service import Service\n",
    "from selenium.webdriver.chrome.options import Options\n",
    "import json\n",
    "import pandas as pd\n",
    "from datetime import datetime\n",
    "import numpy as np"
   ]
  },
  {
   "cell_type": "code",
   "execution_count": 2,
   "id": "d30823bb",
   "metadata": {
    "ExecuteTime": {
     "end_time": "2022-10-03T15:58:58.266174Z",
     "start_time": "2022-10-03T15:58:58.254162Z"
    }
   },
   "outputs": [],
   "source": [
    "##Nuevas\n",
    "def buscar(elemento,busqueda):\n",
    "    WebDriverWait(driver, 10)\\\n",
    "        .until(EC.element_to_be_clickable((By.CSS_SELECTOR,elemento)))\\\n",
    "        .send_keys(busqueda)\n",
    "    \n",
    "def Click(elemento):\n",
    "    WebDriverWait(driver, 5)\\\n",
    "        .until(EC.element_to_be_clickable((By.CSS_SELECTOR,elemento))).click()\n",
    "\n",
    "def clear_buscar(elemento):\n",
    "    WebDriverWait(driver, 20)\\\n",
    "        .until(EC.element_to_be_clickable((By.CSS_SELECTOR,elemento)))\\\n",
    "        .clear()\n",
    "    \n",
    "#Se solicita el Xfullpath para hacer click\n",
    "def Click_Xpath(path):\n",
    "    WebDriverWait(driver, 15)\\\n",
    "    .until(EC.element_to_be_clickable((By.XPATH,path)))\\\n",
    "    .click()\n",
    "    \n",
    "    \n",
    "##Funcion NoClick hace referencia a los apartados que no son clikeables y se accede a el por medio del FullXpath\n",
    "def NoClick(path):\n",
    "    WebDriverWait(driver, 5).until(EC.presence_of_element_located((By.XPATH,path)))\n",
    "    url=driver.find_element(\"xpath\",path).get_attribute(\"href\")\n",
    "    driver.get(url)   \n",
    "    \n",
    "def ListarNombres(path,clase):\n",
    "    WebDriverWait(driver, 8).until(EC.presence_of_element_located((By.XPATH,path)))\n",
    "    html_list=driver.find_element(By.CSS_SELECTOR,clase)\n",
    "    lista = html_list.find_elements(By.TAG_NAME,'div')\n",
    "    titulo=[]\n",
    "    for i in lista:\n",
    "        text = i.get_attribute('innerHTML')\n",
    "        soup = BeautifulSoup(text,'html.parser')\n",
    "        titulo.append(soup.findAll(\"h2\")[0].string)\n",
    "        #print(titulo)\n",
    "    return titulo\n",
    "\n",
    "def ListarPrecios(path,clase):\n",
    "    WebDriverWait(driver, 8).until(EC.presence_of_element_located((By.XPATH,path)))\n",
    "    html_list=driver.find_element(By.CSS_SELECTOR,clase)\n",
    "    lista = html_list.find_elements(By.TAG_NAME,'li')\n",
    "    \n",
    "    for i in lista:\n",
    "        text = i.get_attribute('innerHTML')\n",
    "        soup = BeautifulSoup(text,'html.parser')\n",
    "        precio = soup.select(\"span.price-tag-fraction\")[0].text\n",
    "        print(precio)\n",
    "def LeerJson(path):\n",
    "    \n",
    "    WebDriverWait(driver, 25).until(EC.presence_of_element_located((By.XPATH,path)))\n",
    "    Json_Jumbo=driver.find_element(\"xpath\",path).get_attribute(\"text\")\n",
    "    Json_Jumbo = json.loads(Json_Jumbo)\n",
    "    DatosProducto = Json_Jumbo['itemListElement'] # Se toma el Json anidado que contiene los datos del producto\n",
    "    return DatosProducto"
   ]
  },
  {
   "cell_type": "code",
   "execution_count": 3,
   "id": "26c5858a",
   "metadata": {
    "ExecuteTime": {
     "end_time": "2022-10-03T15:58:59.653328Z",
     "start_time": "2022-10-03T15:58:59.646321Z"
    }
   },
   "outputs": [],
   "source": [
    "#Funciones para limpieza y procesamiento de datos \n",
    "def cantidad(producto):\n",
    "    \n",
    "    l=len(producto)\n",
    "    producto=producto[::-1] #Invertimos la cadena para encontrar x\n",
    "    m =producto.find(\"x\")\n",
    "    producto = producto[:m] #Esta invertimo el valor\n",
    "    producto=producto[::-1] #Lo volvemos a su estado normal\n",
    "    return producto\n"
   ]
  },
  {
   "cell_type": "code",
   "execution_count": 5,
   "id": "cfdc8152",
   "metadata": {
    "ExecuteTime": {
     "end_time": "2022-10-03T15:59:02.155418Z",
     "start_time": "2022-10-03T15:59:02.147416Z"
    }
   },
   "outputs": [],
   "source": [
    "#Ruta de chorme compatible \n",
    "driver_path = \"C:\\\\Users\\\\danie\\\\OneDrive\\\\Documentos\\\\Notebooks\\\\chromedriver.exe\"\n",
    "## Opciones con las que inicia google chrome \n",
    "options = webdriver.ChromeOptions()\n",
    "options.add_argument('--ignore-certificate-errors')\n",
    "options.add_argument(\"--headless\")\n",
    "options.add_argument('--start-maximized')\n",
    "options.add_argument('--disable-extensions')\n",
    "\n",
    "s = Service(driver_path)#Se agrega el path como objeto para evitar errores \n"
   ]
  },
  {
   "cell_type": "markdown",
   "id": "f32168a5",
   "metadata": {},
   "source": [
    "# Main"
   ]
  },
  {
   "cell_type": "markdown",
   "id": "38acc50c",
   "metadata": {},
   "source": [
    "## Función buscar:\n",
    "- Recibe como parametro el input class del cuadro de busqueda de la pagina y el producto a buscar\n",
    "- Se antepone input antes de colocar el input class\n",
    "- Si el input class tiene espacios estos se remplazan por puntos"
   ]
  },
  {
   "cell_type": "markdown",
   "id": "e920443f",
   "metadata": {
    "ExecuteTime": {
     "end_time": "2022-09-08T15:48:46.892900Z",
     "start_time": "2022-09-08T15:48:46.878702Z"
    }
   },
   "source": [
    "## Funcion Click\n",
    "- Recibe como parametro el elemento clikeable anteponiendo el formato(div, footer, etc)\n"
   ]
  },
  {
   "cell_type": "markdown",
   "id": "8c6a4c58",
   "metadata": {
    "ExecuteTime": {
     "end_time": "2022-09-15T00:32:07.482292Z",
     "start_time": "2022-09-15T00:32:07.477618Z"
    }
   },
   "source": [
    "## Función ListarProductos\n",
    "- Esta funcion lista todos los productos de la busquema realizada \n"
   ]
  },
  {
   "cell_type": "code",
   "execution_count": 8,
   "id": "a559fc1b",
   "metadata": {
    "ExecuteTime": {
     "end_time": "2022-10-03T16:04:34.738311Z",
     "start_time": "2022-10-03T16:02:55.296043Z"
    }
   },
   "outputs": [
    {
     "name": "stdout",
     "output_type": "stream",
     "text": [
      "Finalizo correctamente el proceso\n"
     ]
    }
   ],
   "source": [
    "driver = webdriver.Chrome(service=s)\n",
    "driver.maximize_window()\n",
    "driver.get(\"https://www.tiendasjumbo.co/\") \n",
    "\n",
    "ListaProducto=['arroz y granos','aceite','Enlatados Y Conservas','Carnes Frías Y Embutidos']\n",
    "CantMas = dict([('arroz y granos', 10),('aceite', 3),('Enlatados Y Conservas', 5),('Carnes Frías Y Embutidos', 3)])\n",
    "\n",
    "\n",
    "Json_Total=[]\n",
    "time.sleep(2)\n",
    "for i in range(len(ListaProducto)):\n",
    "    time.sleep(1)\n",
    "#Buscar producto\n",
    "    producto = ListaProducto[i]\n",
    "    input_class = 'input.vtex-styleguide-9-x-input.ma0.border-box.vtex-styleguide-9-x-hideDecorators.vtex-styleguide-9-x-noAppearance.br2.br-0.br--left.w-100.bn.outline-0.bg-base.c-on-base.b--muted-4.hover-b--muted-3.t-body.pl5'\n",
    "    buscar(input_class,producto)\n",
    "    time.sleep(2)\n",
    "#Click en buscar\n",
    "    Element_clickeable = 'footer.vtex-search-2-x-tileListFooter'\n",
    "    Click(Element_clickeable)\n",
    "    \n",
    "#Scroll\n",
    "    Element_clickeable2 = 'a.vtex-button.bw1.ba.fw5.v-mid.relative.pa0.lh-solid.br2.min-h-small.t-action--small.bg-action-primary.b--action-primary.c-on-action-primary.hover-bg-action-primary.hover-b--action-primary.hover-c-on-action-primary.pointer.inline-flex.items-center.no-underline'\n",
    "    for j in range(CantMas[ListaProducto[i]]):\n",
    "        Click(Element_clickeable2)\n",
    "        time.sleep(2)\n",
    "#Guardar en Json     \n",
    "    time.sleep(1)\n",
    "    \n",
    "    driver.set_page_load_timeout(30)\n",
    "    path= '/html/body/div[2]/div/div[1]/div/div[4]/div/div/section/div[2]/div/div[4]/div/div[2]/div/div/div[2]/div/div[5]/div/div/div/script'\n",
    "    Json_Total += LeerJson(path) #Esto deja un JSON con el que se trabajara los datos\n",
    "#limpiar\n",
    "    if(i>=1):\n",
    "        driver.get(\"https://www.tiendasjumbo.co/\") \n",
    "#driver.close()\n",
    "print('Finalizo correctamente el proceso')"
   ]
  },
  {
   "cell_type": "markdown",
   "id": "751a6bb7",
   "metadata": {},
   "source": [
    "# Procesamiento de datos"
   ]
  },
  {
   "cell_type": "code",
   "execution_count": 9,
   "id": "d341f471",
   "metadata": {
    "ExecuteTime": {
     "end_time": "2022-10-03T16:04:42.314518Z",
     "start_time": "2022-10-03T16:04:42.265252Z"
    }
   },
   "outputs": [],
   "source": [
    "#Se obtienen los datos del segundo nivel de profundidad del json y se pasan a un dataframe\n",
    "Producto_1 = pd.json_normalize(Json_Total) \n",
    "#Se accede al 3 nivel de produndidad del json \n",
    "JsonAnidado=[] #Se crea una lista vacia para llenarla con el for\n",
    "\n",
    "for i in Producto_1['item.offers.offers']:\n",
    "    JsonAnidado +=i \n",
    "    \n",
    "#Se normaliza el nivel 3 de profundidad del json    \n",
    "Producto_2= pd.json_normalize(JsonAnidado) # Hacemos join de los 2 dataframe creados\n",
    "Productos_T = pd.concat([Producto_1, Producto_2], axis = 1) "
   ]
  },
  {
   "cell_type": "code",
   "execution_count": 10,
   "id": "ac17b4ac",
   "metadata": {
    "ExecuteTime": {
     "end_time": "2022-10-03T16:04:44.486202Z",
     "start_time": "2022-10-03T16:04:44.475104Z"
    }
   },
   "outputs": [],
   "source": [
    "#Seleccionamos las columnas que nos interesan\n",
    "Productos_T = Productos_T[['sku','item.name','item.brand.name','item.description','priceCurrency','price','priceValidUntil','item.@id','item.image','seller.name']]\n",
    "#Renombramos las columnas \n",
    "Productos_T.columns = ['Codigo_Pro','Nombre', 'Marca', 'Descripcion', 'Moneda', 'Precio','Precio_Valido_Hasta','Url_producto', 'Url_Imagen','Almacen']"
   ]
  },
  {
   "cell_type": "markdown",
   "id": "98f55e01",
   "metadata": {},
   "source": [
    "# Limpieza de datos"
   ]
  },
  {
   "cell_type": "code",
   "execution_count": 14,
   "id": "84116028",
   "metadata": {
    "ExecuteTime": {
     "end_time": "2022-10-03T16:08:04.008917Z",
     "start_time": "2022-10-03T16:08:03.992911Z"
    }
   },
   "outputs": [],
   "source": [
    "Productos_T['Cantidad']=Productos_T['Nombre'].apply(lambda x: cantidad(x))\n",
    "Productos_T['Fecha']= now.strftime('%Y-%m-%d')\n",
    "Productos_T['Categoria']=Productos_T['Nombre'].apply(lambda x: Categoria(x))"
   ]
  },
  {
   "cell_type": "code",
   "execution_count": 11,
   "id": "f3366215",
   "metadata": {
    "ExecuteTime": {
     "end_time": "2022-10-03T16:07:52.509239Z",
     "start_time": "2022-10-03T16:07:52.496811Z"
    }
   },
   "outputs": [],
   "source": [
    "def Categoria (producto):\n",
    "    producto = producto.split(' ', 1)\n",
    "    return producto"
   ]
  },
  {
   "cell_type": "markdown",
   "id": "77d7db37",
   "metadata": {
    "ExecuteTime": {
     "end_time": "2022-09-29T02:44:36.433213Z",
     "start_time": "2022-09-29T02:44:36.418216Z"
    }
   },
   "source": [
    "## Exporta archivo json\n"
   ]
  },
  {
   "cell_type": "code",
   "execution_count": 13,
   "id": "4be5e51c",
   "metadata": {
    "ExecuteTime": {
     "end_time": "2022-10-03T16:08:02.420953Z",
     "start_time": "2022-10-03T16:08:02.405384Z"
    }
   },
   "outputs": [],
   "source": [
    "#Obtenemos la fecha actual\n",
    "now = datetime.now()\n",
    "format = now.strftime('%Y-%m-%d')\n",
    "NombreAlmacen='Jumbo-'+format\n",
    "\n",
    "Productos_T.to_json(f'{NombreAlmacen}.json', orient = 'split', compression = 'infer', index = 'true') "
   ]
  },
  {
   "cell_type": "code",
   "execution_count": 63,
   "id": "f3034ef7",
   "metadata": {
    "ExecuteTime": {
     "end_time": "2022-09-30T03:12:23.077826Z",
     "start_time": "2022-09-30T03:12:23.060819Z"
    }
   },
   "outputs": [],
   "source": [
    "Productos_T.to_csv('Jumbo.csv', index=False,sep='|',encoding='utf-8')"
   ]
  },
  {
   "cell_type": "code",
   "execution_count": 15,
   "id": "111dde2f",
   "metadata": {
    "ExecuteTime": {
     "end_time": "2022-10-03T16:08:10.046276Z",
     "start_time": "2022-10-03T16:08:10.022276Z"
    }
   },
   "outputs": [
    {
     "data": {
      "text/html": [
       "<div>\n",
       "<style scoped>\n",
       "    .dataframe tbody tr th:only-of-type {\n",
       "        vertical-align: middle;\n",
       "    }\n",
       "\n",
       "    .dataframe tbody tr th {\n",
       "        vertical-align: top;\n",
       "    }\n",
       "\n",
       "    .dataframe thead th {\n",
       "        text-align: right;\n",
       "    }\n",
       "</style>\n",
       "<table border=\"1\" class=\"dataframe\">\n",
       "  <thead>\n",
       "    <tr style=\"text-align: right;\">\n",
       "      <th></th>\n",
       "      <th>Codigo_Pro</th>\n",
       "      <th>Nombre</th>\n",
       "      <th>Marca</th>\n",
       "      <th>Descripcion</th>\n",
       "      <th>Moneda</th>\n",
       "      <th>Precio</th>\n",
       "      <th>Precio_Valido_Hasta</th>\n",
       "      <th>Url_producto</th>\n",
       "      <th>Url_Imagen</th>\n",
       "      <th>Almacen</th>\n",
       "      <th>Cantidad</th>\n",
       "      <th>Fecha</th>\n",
       "      <th>Categoria</th>\n",
       "    </tr>\n",
       "  </thead>\n",
       "  <tbody>\n",
       "    <tr>\n",
       "      <th>0</th>\n",
       "      <td>22018</td>\n",
       "      <td>Arroz vitarroz plus Supremo x 10 kg</td>\n",
       "      <td>SUPREMO</td>\n",
       "      <td>Arroz Supremo Premium es símbolo de la excelen...</td>\n",
       "      <td>COP</td>\n",
       "      <td>36590</td>\n",
       "      <td>2023-08-28T22:06:36Z</td>\n",
       "      <td>https://www.tiendasjumbo.co/arroz-vitarroz-plu...</td>\n",
       "      <td>https://jumbocolombiaio.vtexassets.com/arquivo...</td>\n",
       "      <td>Cencosud - Colombia</td>\n",
       "      <td>10 kg</td>\n",
       "      <td>2022-10-03</td>\n",
       "      <td>[Arroz, vitarroz plus Supremo x 10 kg]</td>\n",
       "    </tr>\n",
       "    <tr>\n",
       "      <th>1</th>\n",
       "      <td>111865</td>\n",
       "      <td>Arroz Cuisine&amp;amp;Co blanco x10000g</td>\n",
       "      <td>CUISINE &amp;amp; CO NBE MP</td>\n",
       "      <td>Arroz cuisine&amp;amp;co blanco x10000g</td>\n",
       "      <td>COP</td>\n",
       "      <td>37490</td>\n",
       "      <td>2023-08-28T22:30:36Z</td>\n",
       "      <td>https://www.tiendasjumbo.co/arroz-cuisine-co-b...</td>\n",
       "      <td>https://jumbocolombiaio.vtexassets.com/arquivo...</td>\n",
       "      <td>Cencosud - Colombia</td>\n",
       "      <td>10000g</td>\n",
       "      <td>2022-10-03</td>\n",
       "      <td>[Arroz, Cuisine&amp;amp;Co blanco x10000g]</td>\n",
       "    </tr>\n",
       "    <tr>\n",
       "      <th>2</th>\n",
       "      <td>13397</td>\n",
       "      <td>Arroz Diana x 10 Kg</td>\n",
       "      <td>DIANA</td>\n",
       "      <td>Proporciónale todo el amor a tu familia con el...</td>\n",
       "      <td>COP</td>\n",
       "      <td>36890</td>\n",
       "      <td>2023-09-27T00:00:00Z</td>\n",
       "      <td>https://www.tiendasjumbo.co/arroz-diana-x-10-kg/p</td>\n",
       "      <td>https://jumbocolombiaio.vtexassets.com/arquivo...</td>\n",
       "      <td>Cencosud - Colombia</td>\n",
       "      <td>10 Kg</td>\n",
       "      <td>2022-10-03</td>\n",
       "      <td>[Arroz, Diana x 10 Kg]</td>\n",
       "    </tr>\n",
       "    <tr>\n",
       "      <th>3</th>\n",
       "      <td>13396</td>\n",
       "      <td>Arroz Diana x 5 Kg</td>\n",
       "      <td>DIANA</td>\n",
       "      <td>Proporciónale todo el amor a tu familia con el...</td>\n",
       "      <td>COP</td>\n",
       "      <td>19490</td>\n",
       "      <td>2023-08-28T22:22:13Z</td>\n",
       "      <td>https://www.tiendasjumbo.co/arroz-diana-x-5-kg/p</td>\n",
       "      <td>https://jumbocolombiaio.vtexassets.com/arquivo...</td>\n",
       "      <td>Cencosud - Colombia</td>\n",
       "      <td>5 Kg</td>\n",
       "      <td>2022-10-03</td>\n",
       "      <td>[Arroz, Diana x 5 Kg]</td>\n",
       "    </tr>\n",
       "    <tr>\n",
       "      <th>4</th>\n",
       "      <td>22006</td>\n",
       "      <td>Arroz Supremo  x 5 kg</td>\n",
       "      <td>SUPREMO</td>\n",
       "      <td>Arroz Supremo contiene una mezcla de vitaminas...</td>\n",
       "      <td>COP</td>\n",
       "      <td>19590</td>\n",
       "      <td>2023-06-12T22:04:08Z</td>\n",
       "      <td>https://www.tiendasjumbo.co/arroz-supremo-x-5-...</td>\n",
       "      <td>https://jumbocolombiaio.vtexassets.com/arquivo...</td>\n",
       "      <td>Cencosud - Colombia</td>\n",
       "      <td>5 kg</td>\n",
       "      <td>2022-10-03</td>\n",
       "      <td>[Arroz, Supremo  x 5 kg]</td>\n",
       "    </tr>\n",
       "    <tr>\n",
       "      <th>...</th>\n",
       "      <td>...</td>\n",
       "      <td>...</td>\n",
       "      <td>...</td>\n",
       "      <td>...</td>\n",
       "      <td>...</td>\n",
       "      <td>...</td>\n",
       "      <td>...</td>\n",
       "      <td>...</td>\n",
       "      <td>...</td>\n",
       "      <td>...</td>\n",
       "      <td>...</td>\n",
       "      <td>...</td>\n",
       "      <td>...</td>\n",
       "    </tr>\n",
       "    <tr>\n",
       "      <th>391</th>\n",
       "      <td>61619</td>\n",
       "      <td>Salchichón La Fazenda cervecero premium x 500 g</td>\n",
       "      <td>LA FAZENDA</td>\n",
       "      <td>Día a día, la Fazenda es más querida por los c...</td>\n",
       "      <td>COP</td>\n",
       "      <td>10590</td>\n",
       "      <td>2023-09-30T22:03:37Z</td>\n",
       "      <td>https://www.tiendasjumbo.co/salchichon-la-faze...</td>\n",
       "      <td>https://jumbocolombiaio.vtexassets.com/arquivo...</td>\n",
       "      <td>Cencosud - Colombia</td>\n",
       "      <td>500 g</td>\n",
       "      <td>2022-10-03</td>\n",
       "      <td>[Salchichón, La Fazenda cervecero premium x 50...</td>\n",
       "    </tr>\n",
       "    <tr>\n",
       "      <th>392</th>\n",
       "      <td>198967</td>\n",
       "      <td>Combo Zenú salchichón de pollo x250g + mortade...</td>\n",
       "      <td>ZENU</td>\n",
       "      <td>Cbozenuschonpllx250g+mtdelpllx500ggrtsalchpllx...</td>\n",
       "      <td>COP</td>\n",
       "      <td>16590</td>\n",
       "      <td>2023-07-19T22:04:58Z</td>\n",
       "      <td>https://www.tiendasjumbo.co/cbozenuschonpllx25...</td>\n",
       "      <td>https://jumbocolombiaio.vtexassets.com/arquivo...</td>\n",
       "      <td>Cencosud - Colombia</td>\n",
       "      <td>250g</td>\n",
       "      <td>2022-10-03</td>\n",
       "      <td>[Combo, Zenú salchichón de pollo x250g + morta...</td>\n",
       "    </tr>\n",
       "    <tr>\n",
       "      <th>393</th>\n",
       "      <td>57623</td>\n",
       "      <td>Jamón Pietrán cerdo Premium x 450g</td>\n",
       "      <td>PIETRAN</td>\n",
       "      <td>Su exquisita combinación de pierna de cerdo ma...</td>\n",
       "      <td>COP</td>\n",
       "      <td>24590</td>\n",
       "      <td>2023-07-19T22:03:13Z</td>\n",
       "      <td>https://www.tiendasjumbo.co/jamon-pietran-cerd...</td>\n",
       "      <td>https://jumbocolombiaio.vtexassets.com/arquivo...</td>\n",
       "      <td>Cencosud - Colombia</td>\n",
       "      <td>450g</td>\n",
       "      <td>2022-10-03</td>\n",
       "      <td>[Jamón, Pietrán cerdo Premium x 450g]</td>\n",
       "    </tr>\n",
       "    <tr>\n",
       "      <th>394</th>\n",
       "      <td>11606</td>\n",
       "      <td>Salchichón Cervecero Premium Zenú x 500 g.</td>\n",
       "      <td>ZENU</td>\n",
       "      <td>Salchicha con buena fuente de proteína ideal p...</td>\n",
       "      <td>COP</td>\n",
       "      <td>19990</td>\n",
       "      <td>2023-09-19T22:01:43Z</td>\n",
       "      <td>https://www.tiendasjumbo.co/salchichon-cervece...</td>\n",
       "      <td>https://jumbocolombiaio.vtexassets.com/arquivo...</td>\n",
       "      <td>Cencosud - Colombia</td>\n",
       "      <td>500 g.</td>\n",
       "      <td>2022-10-03</td>\n",
       "      <td>[Salchichón, Cervecero Premium Zenú x 500 g.]</td>\n",
       "    </tr>\n",
       "    <tr>\n",
       "      <th>395</th>\n",
       "      <td>57622</td>\n",
       "      <td>Jamón Pietrán cerdo Premium x 230g</td>\n",
       "      <td>PIETRAN</td>\n",
       "      <td>Su exquisita combinación de pierna de cerdo ma...</td>\n",
       "      <td>COP</td>\n",
       "      <td>13390</td>\n",
       "      <td>2023-07-19T22:03:28Z</td>\n",
       "      <td>https://www.tiendasjumbo.co/jamon-pietran-cerd...</td>\n",
       "      <td>https://jumbocolombiaio.vtexassets.com/arquivo...</td>\n",
       "      <td>Cencosud - Colombia</td>\n",
       "      <td>230g</td>\n",
       "      <td>2022-10-03</td>\n",
       "      <td>[Jamón, Pietrán cerdo Premium x 230g]</td>\n",
       "    </tr>\n",
       "  </tbody>\n",
       "</table>\n",
       "<p>396 rows × 13 columns</p>\n",
       "</div>"
      ],
      "text/plain": [
       "    Codigo_Pro                                             Nombre  \\\n",
       "0        22018                Arroz vitarroz plus Supremo x 10 kg   \n",
       "1       111865                Arroz Cuisine&amp;Co blanco x10000g   \n",
       "2        13397                                Arroz Diana x 10 Kg   \n",
       "3        13396                                 Arroz Diana x 5 Kg   \n",
       "4        22006                              Arroz Supremo  x 5 kg   \n",
       "..         ...                                                ...   \n",
       "391      61619    Salchichón La Fazenda cervecero premium x 500 g   \n",
       "392     198967  Combo Zenú salchichón de pollo x250g + mortade...   \n",
       "393      57623                 Jamón Pietrán cerdo Premium x 450g   \n",
       "394      11606         Salchichón Cervecero Premium Zenú x 500 g.   \n",
       "395      57622                 Jamón Pietrán cerdo Premium x 230g   \n",
       "\n",
       "                       Marca  \\\n",
       "0                    SUPREMO   \n",
       "1    CUISINE &amp; CO NBE MP   \n",
       "2                      DIANA   \n",
       "3                      DIANA   \n",
       "4                    SUPREMO   \n",
       "..                       ...   \n",
       "391               LA FAZENDA   \n",
       "392                     ZENU   \n",
       "393                  PIETRAN   \n",
       "394                     ZENU   \n",
       "395                  PIETRAN   \n",
       "\n",
       "                                           Descripcion Moneda  Precio  \\\n",
       "0    Arroz Supremo Premium es símbolo de la excelen...    COP   36590   \n",
       "1                  Arroz cuisine&amp;co blanco x10000g    COP   37490   \n",
       "2    Proporciónale todo el amor a tu familia con el...    COP   36890   \n",
       "3    Proporciónale todo el amor a tu familia con el...    COP   19490   \n",
       "4    Arroz Supremo contiene una mezcla de vitaminas...    COP   19590   \n",
       "..                                                 ...    ...     ...   \n",
       "391  Día a día, la Fazenda es más querida por los c...    COP   10590   \n",
       "392  Cbozenuschonpllx250g+mtdelpllx500ggrtsalchpllx...    COP   16590   \n",
       "393  Su exquisita combinación de pierna de cerdo ma...    COP   24590   \n",
       "394  Salchicha con buena fuente de proteína ideal p...    COP   19990   \n",
       "395  Su exquisita combinación de pierna de cerdo ma...    COP   13390   \n",
       "\n",
       "      Precio_Valido_Hasta                                       Url_producto  \\\n",
       "0    2023-08-28T22:06:36Z  https://www.tiendasjumbo.co/arroz-vitarroz-plu...   \n",
       "1    2023-08-28T22:30:36Z  https://www.tiendasjumbo.co/arroz-cuisine-co-b...   \n",
       "2    2023-09-27T00:00:00Z  https://www.tiendasjumbo.co/arroz-diana-x-10-kg/p   \n",
       "3    2023-08-28T22:22:13Z   https://www.tiendasjumbo.co/arroz-diana-x-5-kg/p   \n",
       "4    2023-06-12T22:04:08Z  https://www.tiendasjumbo.co/arroz-supremo-x-5-...   \n",
       "..                    ...                                                ...   \n",
       "391  2023-09-30T22:03:37Z  https://www.tiendasjumbo.co/salchichon-la-faze...   \n",
       "392  2023-07-19T22:04:58Z  https://www.tiendasjumbo.co/cbozenuschonpllx25...   \n",
       "393  2023-07-19T22:03:13Z  https://www.tiendasjumbo.co/jamon-pietran-cerd...   \n",
       "394  2023-09-19T22:01:43Z  https://www.tiendasjumbo.co/salchichon-cervece...   \n",
       "395  2023-07-19T22:03:28Z  https://www.tiendasjumbo.co/jamon-pietran-cerd...   \n",
       "\n",
       "                                            Url_Imagen              Almacen  \\\n",
       "0    https://jumbocolombiaio.vtexassets.com/arquivo...  Cencosud - Colombia   \n",
       "1    https://jumbocolombiaio.vtexassets.com/arquivo...  Cencosud - Colombia   \n",
       "2    https://jumbocolombiaio.vtexassets.com/arquivo...  Cencosud - Colombia   \n",
       "3    https://jumbocolombiaio.vtexassets.com/arquivo...  Cencosud - Colombia   \n",
       "4    https://jumbocolombiaio.vtexassets.com/arquivo...  Cencosud - Colombia   \n",
       "..                                                 ...                  ...   \n",
       "391  https://jumbocolombiaio.vtexassets.com/arquivo...  Cencosud - Colombia   \n",
       "392  https://jumbocolombiaio.vtexassets.com/arquivo...  Cencosud - Colombia   \n",
       "393  https://jumbocolombiaio.vtexassets.com/arquivo...  Cencosud - Colombia   \n",
       "394  https://jumbocolombiaio.vtexassets.com/arquivo...  Cencosud - Colombia   \n",
       "395  https://jumbocolombiaio.vtexassets.com/arquivo...  Cencosud - Colombia   \n",
       "\n",
       "    Cantidad       Fecha                                          Categoria  \n",
       "0      10 kg  2022-10-03             [Arroz, vitarroz plus Supremo x 10 kg]  \n",
       "1     10000g  2022-10-03             [Arroz, Cuisine&amp;Co blanco x10000g]  \n",
       "2      10 Kg  2022-10-03                             [Arroz, Diana x 10 Kg]  \n",
       "3       5 Kg  2022-10-03                              [Arroz, Diana x 5 Kg]  \n",
       "4       5 kg  2022-10-03                           [Arroz, Supremo  x 5 kg]  \n",
       "..       ...         ...                                                ...  \n",
       "391    500 g  2022-10-03  [Salchichón, La Fazenda cervecero premium x 50...  \n",
       "392     250g  2022-10-03  [Combo, Zenú salchichón de pollo x250g + morta...  \n",
       "393     450g  2022-10-03              [Jamón, Pietrán cerdo Premium x 450g]  \n",
       "394   500 g.  2022-10-03      [Salchichón, Cervecero Premium Zenú x 500 g.]  \n",
       "395     230g  2022-10-03              [Jamón, Pietrán cerdo Premium x 230g]  \n",
       "\n",
       "[396 rows x 13 columns]"
      ]
     },
     "execution_count": 15,
     "metadata": {},
     "output_type": "execute_result"
    }
   ],
   "source": [
    "Productos_T"
   ]
  },
  {
   "cell_type": "code",
   "execution_count": null,
   "id": "74311d0b",
   "metadata": {},
   "outputs": [],
   "source": []
  }
 ],
 "metadata": {
  "hide_input": false,
  "kernelspec": {
   "display_name": "Python 3 (ipykernel)",
   "language": "python",
   "name": "python3"
  },
  "language_info": {
   "codemirror_mode": {
    "name": "ipython",
    "version": 3
   },
   "file_extension": ".py",
   "mimetype": "text/x-python",
   "name": "python",
   "nbconvert_exporter": "python",
   "pygments_lexer": "ipython3",
   "version": "3.10.7"
  },
  "toc": {
   "base_numbering": 1,
   "nav_menu": {},
   "number_sections": true,
   "sideBar": true,
   "skip_h1_title": false,
   "title_cell": "Table of Contents",
   "title_sidebar": "Contents",
   "toc_cell": false,
   "toc_position": {},
   "toc_section_display": true,
   "toc_window_display": false
  },
  "varInspector": {
   "cols": {
    "lenName": 16,
    "lenType": 16,
    "lenVar": 40
   },
   "kernels_config": {
    "python": {
     "delete_cmd_postfix": "",
     "delete_cmd_prefix": "del ",
     "library": "var_list.py",
     "varRefreshCmd": "print(var_dic_list())"
    },
    "r": {
     "delete_cmd_postfix": ") ",
     "delete_cmd_prefix": "rm(",
     "library": "var_list.r",
     "varRefreshCmd": "cat(var_dic_list()) "
    }
   },
   "types_to_exclude": [
    "module",
    "function",
    "builtin_function_or_method",
    "instance",
    "_Feature"
   ],
   "window_display": false
  }
 },
 "nbformat": 4,
 "nbformat_minor": 5
}
