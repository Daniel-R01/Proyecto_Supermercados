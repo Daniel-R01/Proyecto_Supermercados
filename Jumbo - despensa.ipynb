{
 "cells": [
  {
   "cell_type": "code",
   "execution_count": 1,
   "id": "7c25d6ea",
   "metadata": {
    "ExecuteTime": {
     "end_time": "2022-10-03T15:58:55.084328Z",
     "start_time": "2022-10-03T15:58:54.472035Z"
    }
   },
   "outputs": [],
   "source": [
    "#librerias\n",
    "from selenium import webdriver\n",
    "from selenium.webdriver.support.ui import WebDriverWait\n",
    "from selenium.webdriver.support import expected_conditions as EC\n",
    "from selenium.webdriver.common.by import By\n",
    "from bs4 import BeautifulSoup\n",
    "import time\n",
    "from selenium.webdriver.chrome.service import Service\n",
    "from selenium.webdriver.chrome.options import Options\n",
    "import json\n",
    "import pandas as pd\n",
    "from datetime import datetime\n",
    "import numpy as np\n",
    "import re\n",
    "from selenium.common.exceptions import TimeoutException"
   ]
  },
  {
   "cell_type": "code",
   "execution_count": 2,
   "id": "392364b1",
   "metadata": {},
   "outputs": [
    {
     "name": "stdout",
     "output_type": "stream",
     "text": [
      "Se importo correctamente la funcion EliminarInusuales y Agrupar\n"
     ]
    }
   ],
   "source": [
    "import FunClear  # Funciones creadas"
   ]
  },
  {
   "cell_type": "code",
   "execution_count": 3,
   "id": "d30823bb",
   "metadata": {
    "ExecuteTime": {
     "end_time": "2022-10-03T15:58:58.266174Z",
     "start_time": "2022-10-03T15:58:58.254162Z"
    }
   },
   "outputs": [],
   "source": [
    "##Nuevas\n",
    "def buscar(elemento,busqueda):\n",
    "    WebDriverWait(driver, 10)\\\n",
    "        .until(EC.element_to_be_clickable((By.CSS_SELECTOR,elemento)))\\\n",
    "        .send_keys(busqueda)\n",
    "    \n",
    "def Click(elemento):\n",
    "    WebDriverWait(driver, 5)\\\n",
    "        .until(EC.element_to_be_clickable((By.CSS_SELECTOR,elemento))).click()\n",
    "  \n",
    "\n",
    "def LeerJson(path):\n",
    "    \n",
    "    WebDriverWait(driver, 25).until(EC.presence_of_element_located((By.XPATH,path)))\n",
    "    Json_Jumbo=driver.find_element(\"xpath\",path).get_attribute(\"text\")\n",
    "    Json_Jumbo = json.loads(Json_Jumbo)\n",
    "    DatosProducto = Json_Jumbo['itemListElement'] # Se toma el Json anidado que contiene los datos del producto\n",
    "    return DatosProducto\n",
    "\n"
   ]
  },
  {
   "cell_type": "code",
   "execution_count": 4,
   "id": "26c5858a",
   "metadata": {
    "ExecuteTime": {
     "end_time": "2022-10-03T15:58:59.653328Z",
     "start_time": "2022-10-03T15:58:59.646321Z"
    }
   },
   "outputs": [],
   "source": [
    "  \n",
    "#Funcion para convertir palabras con acentos en palabras sin acentos\n",
    "def categoria(producto):\n",
    "    \n",
    "    m =producto.find(\" \")\n",
    "    remplazo = producto[:m].maketrans(\"áéíóú\", \"aeiou\",\"*123456789\") #Remplazo palabras que contengan acentos y borrar caracteres *123456789\n",
    "    producto = producto[:m].translate(remplazo).upper() #Uso translate para poder observar correctamente\n",
    "    return producto\n",
    "\n"
   ]
  },
  {
   "cell_type": "code",
   "execution_count": 5,
   "id": "1b2d2829",
   "metadata": {},
   "outputs": [],
   "source": [
    "#Funcion para obtener la cantidad de cada producto\n",
    "def cantidadx(producto):\n",
    "    \n",
    "    producto = re.findall(r'( x.+\\d{0,6}.\\w{1,3}|\\d{1,5}..\\w{0,5}| \\d{1,3}\\D\\d{1,3}.\\w{1,3})',producto) #Expresion regular para obtener las cantidades de los productos\n",
    "    producto = \" \".join(producto).replace('x', '') #Eliminamos la x en la cantidad de productos y pasamos los datos a str\n",
    "\n",
    "    #----Remplazar valores inusuales----\n",
    "    producto = re.sub(' \\.', '.',producto) #Eliminamos espacios vacios en valores decimales\n",
    "    \n",
    "    return producto #Retornar en minusculas y sin espacios al inicio y al final \n",
    "\n",
    "\n",
    "def EliminarValoresSeparador(producto):\n",
    "    \n",
    "    #Primero se remplaza valores de str que son inusuales\n",
    "    producto = producto.replace(';', '')\n",
    "    producto = producto.replace('\\r\\n', '')\n",
    "    producto = producto.replace('\\n', '')\n",
    "    producto = producto.replace('&quot', '')\n",
    "    \n",
    "    return producto\n",
    "\n",
    "#Función para separar el numero de la unidad de medida en el nombre\n",
    "def separador(producto):\n",
    "\n",
    "    patron =r'(\\d{1,5})([a-z]{0,7})' #Expresion regular para dar espacio entre numeros y letras\n",
    "    producto = re.sub(patron,r'\\1 \\2',producto) #Separamos los numeros que estan junto a palabras de unidad de medida\n",
    "    producto = re.sub(' +', ' ',producto) #Esta linea solo deja un espacio entre palabras eliminando espacios inecesarios\n",
    "    producto = re.sub(' \\,', '.',producto) #Eliminamos espacios vacios en valores decimales\n",
    "    producto = re.sub(' \\.', '.',producto) #Eliminamos espacios vacios en valores decimales\n",
    "    producto = producto.replace('-', '')\n",
    "    \n",
    "    return producto.lower()\n"
   ]
  },
  {
   "cell_type": "code",
   "execution_count": 6,
   "id": "cfdc8152",
   "metadata": {
    "ExecuteTime": {
     "end_time": "2022-10-03T15:59:02.155418Z",
     "start_time": "2022-10-03T15:59:02.147416Z"
    }
   },
   "outputs": [],
   "source": [
    "#Ruta de chorme compatible \n",
    "driver_path = \"C:\\\\Users\\\\danie\\\\OneDrive\\\\Documentos\\\\Notebooks\\\\chromedriver.exe\"\n",
    "## Opciones con las que inicia google chrome \n",
    "options = webdriver.ChromeOptions()\n",
    "options.add_argument('--ignore-certificate-errors')\n",
    "options.add_argument(\"--headless\")\n",
    "options.add_argument('--start-maximized')\n",
    "options.add_argument('--disable-extensions')\n",
    "\n",
    "s = Service(driver_path)#Se agrega el path como objeto para evitar errores \n"
   ]
  },
  {
   "cell_type": "markdown",
   "id": "f32168a5",
   "metadata": {},
   "source": [
    "# Main"
   ]
  },
  {
   "cell_type": "markdown",
   "id": "38acc50c",
   "metadata": {},
   "source": [
    "## Función buscar:\n",
    "- Recibe como parametro el input class del cuadro de busqueda de la pagina y el producto a buscar\n",
    "- Se antepone input antes de colocar el input class\n",
    "- Si el input class tiene espacios estos se remplazan por puntos"
   ]
  },
  {
   "cell_type": "markdown",
   "id": "e920443f",
   "metadata": {
    "ExecuteTime": {
     "end_time": "2022-09-08T15:48:46.892900Z",
     "start_time": "2022-09-08T15:48:46.878702Z"
    }
   },
   "source": [
    "## Funcion Click\n",
    "- Recibe como parametro el elemento clikeable anteponiendo el formato(div, footer, etc)\n"
   ]
  },
  {
   "cell_type": "code",
   "execution_count": 19,
   "id": "0ce32539",
   "metadata": {},
   "outputs": [
    {
     "name": "stdout",
     "output_type": "stream",
     "text": [
      "Entro en try de scroll 1 Azucar\n",
      "Entro en try de scroll 1 Huevos\n",
      "Finalizo correctamente el proceso\n"
     ]
    }
   ],
   "source": [
    "###### PRUEBA RESISTENCIA CODIGO ######\n",
    "from selenium.webdriver.support.select import Select\n",
    "\n",
    "driver = webdriver.Chrome(service=s)\n",
    "driver.maximize_window()\n",
    "driver.implicitly_wait (10)\n",
    "driver.get(\"https://www.tiendasjumbo.co/\") \n",
    "\n",
    "\n",
    "#--------------------------------Bloque de elección de ciudad y almacen----------------------------------------#\n",
    "#Click en configurar metodo de entrega\n",
    "driver.find_element(By.CLASS_NAME, 'mv0.tiendasjumboqaio-delivery-modal-3-x-textDeliveryTrigger.tiendasjumboqaio-delivery-modal-3-x-textSecondDeliveryTrigger').click()\n",
    "\n",
    "#Ingresar email\n",
    "input_class=\"input.vtex-styleguide-9-x-input.ma0.border-box.vtex-styleguide-9-x-hideDecorators.vtex-styleguide-9-x-noAppearance.br2.w-100.bn.outline-0.bg-base.c-on-base.b--muted-4.hover-b--muted-3.t-body.ph5\"\n",
    "buscar(input_class,\"daniel25a@gmail.com\")\n",
    "\n",
    "#Click en enviar\n",
    "driver.find_element(By.CLASS_NAME,\"vtex-button__label.flex.items-center.justify-center.h-100.ph6.w-100.border-box\").click()\n",
    "\n",
    "#Click en recoger en tienda\n",
    "driver.find_element(By.ID, 'Recoge_en_tienda').click()\n",
    "\n",
    "#Desplegar la lista de departamentos\n",
    "driver.find_element(By.CLASS_NAME, 'vtex-styleguide-9-x-container.vtex-dropdown__container.br2.relative.bw1.bg-base.ba.h-regular.hover-b--muted-3.b--muted-4.t-body').click()\n",
    "\n",
    "# #Elegir departamento boyaca\n",
    "path = \"/html/body/div[12]/div[1]/div/div[2]/div/div/div/div[5]/div[1]/div[1]/div/label/div/select\"\n",
    "Select(driver.find_element(\"xpath\",path)).select_by_visible_text(\"Boyacá\")\n",
    "\n",
    "# #Desplegar la lista de ciudades\n",
    "driver.find_element(By.CLASS_NAME, 'vtex-styleguide-9-x-container.vtex-dropdown__container.br2.relative.bw1.bg-base.ba.h-regular.hover-b--muted-3.b--muted-4.t-body').click()\n",
    "path2 = \"/html/body/div[12]/div[1]/div/div[2]/div/div/div/div[5]/div[1]/div[2]/div/label/div/select\"\n",
    "Select(driver.find_element(\"xpath\",path2)).select_by_visible_text(\"Tunja\")\n",
    "time.sleep(3)\n",
    "\n",
    "# #Desplegar la lista de tiendas\n",
    "driver.find_element(\"xpath\", '/html/body/div[12]/div[1]/div/div[2]/div/div/div/div[5]/div[2]/div/div/label/div').click()\n",
    "path3 = \"/html/body/div[12]/div[1]/div/div[2]/div/div/div/div[5]/div[2]/div/div/label/div/select\"\n",
    "Select(driver.find_element(\"xpath\",path3)).select_by_visible_text(\"Unicentro\")\n",
    "time.sleep(1)\n",
    "\n",
    "#Click en confirmar \n",
    "driver.find_element(\"xpath\", '/html/body/div[12]/div[1]/div/div[2]/div/div/div/div[5]/div[3]/div[2]/button/div').click()\n",
    "time.sleep(12)\n",
    "\n",
    "#-----------------------------------------Fin de elección de ciudad y almacen----------------------------------------------#\n",
    "\n",
    "#-#-#-#-#-#-##-#-#-#-#-#-##-#-#-#-#-#-##--Inicio de busqueda de productos--#-#-#-#-#-##-#-#-#-#-#-##-#-#-#-#-#-##-#-#-#-#-#-#\n",
    "ListaProducto=  ['Arroz','Leche','Harina','Pasta','Azucar','aseo','frutas','verduras','Huevos','Cafe','Sal','frijol y lenteja','Carne']\n",
    "CantMas = dict([('Arroz', 3),('Leche', 2),('Harina', 2),('Pasta', 2),('Azucar', 2),('aseo', 1),('frutas', 1),('verduras', 1),('Huevos', 1),('Cafe', 1),('Sal', 1),('frijol y lenteja', 2),('Carne', 2)])\n",
    "\n",
    "Json_Total=[]\n",
    "time.sleep(2)\n",
    "numero_intentos = 2\n",
    "try:\n",
    "    for i in range(len(ListaProducto)):\n",
    "        time.sleep(2)\n",
    "    #Buscar producto\n",
    "        producto = ListaProducto[i]\n",
    "        input_class = 'input.vtex-styleguide-9-x-input.ma0.border-box.vtex-styleguide-9-x-hideDecorators.vtex-styleguide-9-x-noAppearance.br2.br-0.br--left.w-100.bn.outline-0.bg-base.c-on-base.b--muted-4.hover-b--muted-3.t-body.pl5'\n",
    "        try:\n",
    "            buscar(input_class,producto)\n",
    "            time.sleep(2)\n",
    "        except:\n",
    "            print('Entro en bucle de buscar producto'+producto)\n",
    "            driver.get(\"https://www.tiendasjumbo.co/\") \n",
    "            buscar(input_class,producto)\n",
    "\n",
    "    #Click en buscar\n",
    "        Element_clickeable = 'footer.vtex-search-2-x-tileListFooter' \n",
    "        try:\n",
    "            Click(Element_clickeable)\n",
    "            time.sleep(1)\n",
    "        except:\n",
    "            try:\n",
    "                print('Entro en except de click '+producto)\n",
    "                time.sleep(1)\n",
    "                driver.get(\"https://www.tiendasjumbo.co/\")\n",
    "                time.sleep(1) \n",
    "                buscar(input_class,producto)\n",
    "                time.sleep(2)\n",
    "                Click(Element_clickeable)\n",
    "            except:\n",
    "                i = i+1\n",
    "                continue\n",
    "    #Scroll\n",
    "        Element_clickeable2 = 'a.vtex-button.bw1.ba.fw5.v-mid.relative.pa0.lh-solid.br2.min-h-small.t-action--small.bg-action-primary.b--action-primary.c-on-action-primary.hover-bg-action-primary.hover-b--action-primary.hover-c-on-action-primary.pointer.inline-flex.items-center.no-underline'\n",
    "        path= '/html/body/div[2]/div/div[1]/div/div[4]/div/div/section/div[2]/div/div[4]/div/div[2]/div/div/div[2]/div/div[5]/div/div/div/script'      \n",
    "\n",
    "        try:\n",
    "            for j in range(CantMas[ListaProducto[i]]):\n",
    "                Click(Element_clickeable2)\n",
    "                time.sleep(2)\n",
    "            time.sleep(1)\n",
    "            Json_Total += LeerJson(path) #Esto deja un JSON con el que se trabajara los datos\n",
    "\n",
    "        except:\n",
    "            try: \n",
    "                path2= '/html/body/div[3]/div/div[1]/div/script'      \n",
    "                print('Entro en try de scroll 1 '+producto)\n",
    "                Json_Total += LeerJson(path2)  #Guardar en Json \n",
    "                driver.get(\"https://www.tiendasjumbo.co/\")\n",
    "            except:\n",
    "                print('Entro en try de scroll 2 '+producto)\n",
    "                driver.get(\"https://www.tiendasjumbo.co/\")                            \n",
    "        #limpiar\n",
    "        if(i>=1):  \n",
    "            driver.get(\"https://www.tiendasjumbo.co/\") \n",
    "            \n",
    "except TimeoutException:\n",
    "    driver.set_page_load_timeout(10)\n",
    "    pass\n",
    "    print('El proceso finalizo con algo inusual')\n",
    "    \n",
    "finally:\n",
    "    print('Finalizo correctamente el proceso')\n",
    "    driver.close()"
   ]
  },
  {
   "cell_type": "markdown",
   "id": "751a6bb7",
   "metadata": {},
   "source": [
    "# Procesamiento de datos"
   ]
  },
  {
   "cell_type": "code",
   "execution_count": null,
   "id": "d341f471",
   "metadata": {
    "ExecuteTime": {
     "end_time": "2022-10-03T16:04:42.314518Z",
     "start_time": "2022-10-03T16:04:42.265252Z"
    }
   },
   "outputs": [],
   "source": [
    "#Se obtienen los datos del segundo nivel de profundidad del json y se pasan a un dataframe\n",
    "Producto_1 = pd.json_normalize(Json_Total) \n",
    "#Se accede al 3 nivel de produndidad del json \n",
    "JsonAnidado=[] #Se crea una lista vacia para llenarla con el for\n",
    "\n",
    "for i in Producto_1['item.offers.offers']:\n",
    "    JsonAnidado +=i \n",
    "    \n",
    "#Se normaliza el nivel 3 de profundidad del json    \n",
    "Producto_2= pd.json_normalize(JsonAnidado) # Hacemos join de los 2 dataframe creados\n",
    "Productos_T = pd.concat([Producto_1, Producto_2], axis = 1) "
   ]
  },
  {
   "cell_type": "code",
   "execution_count": null,
   "id": "ac17b4ac",
   "metadata": {
    "ExecuteTime": {
     "end_time": "2022-10-03T16:04:44.486202Z",
     "start_time": "2022-10-03T16:04:44.475104Z"
    }
   },
   "outputs": [],
   "source": [
    "#Seleccionamos las columnas que nos interesan\n",
    "Productos_T = Productos_T[['sku','item.name','item.brand.name','item.description','priceCurrency','price','priceValidUntil','item.@id','item.image','seller.name']]\n",
    "#Renombramos las columnas \n",
    "Productos_T.columns = ['Codigo_Pro','Nombre', 'Marca', 'Descripcion', 'Moneda', 'Precio','Precio_Valido_Hasta','Url_producto', 'Url_Imagen','Almacen']"
   ]
  },
  {
   "cell_type": "code",
   "execution_count": null,
   "id": "77d37413",
   "metadata": {},
   "outputs": [],
   "source": [
    "#Obtenemos la fecha actual\n",
    "now = datetime.now()\n",
    "format = now.strftime('%Y-%m-%d')\n",
    "NombreAlmacen='Jumbo-'+format\n",
    "Ruta = \"C:\\\\Users\\\\danie\\\\OneDrive\\\\Documentos\\\\Proyecto_Supermercados_GIT\\\\Proyecto_Supermercados\\\\ProductData\\\\\""
   ]
  },
  {
   "cell_type": "markdown",
   "id": "98f55e01",
   "metadata": {},
   "source": [
    "# Limpieza de datos"
   ]
  },
  {
   "cell_type": "code",
   "execution_count": null,
   "id": "84116028",
   "metadata": {
    "ExecuteTime": {
     "end_time": "2022-10-03T16:08:04.008917Z",
     "start_time": "2022-10-03T16:08:03.992911Z"
    }
   },
   "outputs": [],
   "source": [
    "#Eliminar valores como (;,/n,/r/n) para evitar problemas de formato al momento de exportar archivo csv\n",
    "Productos_T['Nombre']=Productos_T['Nombre'].apply(lambda x: EliminarValoresSeparador(x))\n",
    "Productos_T['Descripcion']=Productos_T['Descripcion'].apply(lambda x: EliminarValoresSeparador(x))\n",
    "Productos_T['Marca']=Productos_T['Marca'].apply(lambda x: EliminarValoresSeparador(x))\n",
    "Productos_T['Nombre']=Productos_T['Nombre'].apply(lambda x: separador(x))\n",
    "Productos_T['Cantidad']=Productos_T['Nombre'].apply(lambda x: cantidadx(x))\n",
    "Productos_T['Fecha']= now.strftime('%Y-%m-%d')\n",
    "Productos_T['Categoria']=Productos_T['Nombre'].apply(lambda x: categoria(x))\n",
    "Productos_T['Cantidad']=Productos_T['Cantidad'].apply(lambda x: FunClear.EliminarInusuales(x))\n",
    "Productos_T['Categoria']=Productos_T['Categoria'].apply(lambda x: FunClear.Agrupar(x))\n",
    "Productos_T['Ciudad']='Tunja'"
   ]
  },
  {
   "cell_type": "markdown",
   "id": "77d7db37",
   "metadata": {
    "ExecuteTime": {
     "end_time": "2022-09-29T02:44:36.433213Z",
     "start_time": "2022-09-29T02:44:36.418216Z"
    }
   },
   "source": [
    "## Exporta archivo json\n"
   ]
  },
  {
   "cell_type": "code",
   "execution_count": null,
   "id": "4be5e51c",
   "metadata": {
    "ExecuteTime": {
     "end_time": "2022-10-03T16:08:02.420953Z",
     "start_time": "2022-10-03T16:08:02.405384Z"
    }
   },
   "outputs": [],
   "source": [
    "#Exportar archivo CSV\n",
    "Productos_T.to_csv(f'{Ruta}{NombreAlmacen}.csv', index=False,sep='|',encoding='utf-8')"
   ]
  },
  {
   "cell_type": "code",
   "execution_count": null,
   "id": "f13f07a3",
   "metadata": {},
   "outputs": [],
   "source": [
    "\n",
    "# Ver todo el contenido de un dataframe\n",
    "pd.options.display.max_columns = None\n",
    "pd.options.display.max_rows = None\n",
    "pd.options.display.width = None\n",
    "pd.options.display.max_colwidth = None"
   ]
  },
  {
   "cell_type": "code",
   "execution_count": null,
   "id": "d18a98ed",
   "metadata": {},
   "outputs": [],
   "source": [
    "#Productos_T"
   ]
  }
 ],
 "metadata": {
  "hide_input": false,
  "kernelspec": {
   "display_name": "Python 3.10.7 64-bit",
   "language": "python",
   "name": "python3"
  },
  "language_info": {
   "codemirror_mode": {
    "name": "ipython",
    "version": 3
   },
   "file_extension": ".py",
   "mimetype": "text/x-python",
   "name": "python",
   "nbconvert_exporter": "python",
   "pygments_lexer": "ipython3",
   "version": "3.10.7"
  },
  "toc": {
   "base_numbering": 1,
   "nav_menu": {},
   "number_sections": true,
   "sideBar": true,
   "skip_h1_title": false,
   "title_cell": "Table of Contents",
   "title_sidebar": "Contents",
   "toc_cell": false,
   "toc_position": {},
   "toc_section_display": true,
   "toc_window_display": false
  },
  "varInspector": {
   "cols": {
    "lenName": 16,
    "lenType": 16,
    "lenVar": 40
   },
   "kernels_config": {
    "python": {
     "delete_cmd_postfix": "",
     "delete_cmd_prefix": "del ",
     "library": "var_list.py",
     "varRefreshCmd": "print(var_dic_list())"
    },
    "r": {
     "delete_cmd_postfix": ") ",
     "delete_cmd_prefix": "rm(",
     "library": "var_list.r",
     "varRefreshCmd": "cat(var_dic_list()) "
    }
   },
   "types_to_exclude": [
    "module",
    "function",
    "builtin_function_or_method",
    "instance",
    "_Feature"
   ],
   "window_display": false
  },
  "vscode": {
   "interpreter": {
    "hash": "0f2f6c680cf484319d387fabac80ca4ff4fc33965036e02100b3fe02600f1423"
   }
  }
 },
 "nbformat": 4,
 "nbformat_minor": 5
}
